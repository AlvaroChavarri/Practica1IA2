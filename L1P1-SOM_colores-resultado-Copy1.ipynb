{
 "cells": [
  {
   "cell_type": "markdown",
   "metadata": {},
   "source": [
    "# Práctica 1 - Self-Organising Maps - COLORES\n",
    "## Preparación de entorno\n",
    "#### Importar librerías de código"
   ]
  },
  {
   "cell_type": "markdown",
   "metadata": {},
   "source": [
    "Álvaro Chavarri, Daniel Ojeda, Carlos Vega y Lucía Gálvez"
   ]
  },
  {
   "cell_type": "code",
   "execution_count": 1,
   "metadata": {
    "scrolled": true
   },
   "outputs": [],
   "source": [
    "# from __future__ import division\n",
    "\n",
    "import numpy as np\n",
    "from matplotlib import pyplot as plt\n",
    "from matplotlib import patches as patches\n",
    "\n",
    "%matplotlib inline"
   ]
  },
  {
   "cell_type": "markdown",
   "metadata": {},
   "source": [
    "#### Dataset que se va a utilizar para el entrenamiento"
   ]
  },
  {
   "cell_type": "code",
   "execution_count": 2,
   "metadata": {},
   "outputs": [],
   "source": [
    "# Código para obtener el Dataset que se va a usar en el entrenamiento\n",
    "valor_min = 0\n",
    "valor_max = 255\n",
    "valores_color = 3\n",
    "num_colores = 100\n",
    "# creamos la matriz por separado\n",
    "datos = np.random.randint(valor_min, valor_max, (num_colores, valores_color))"
   ]
  },
  {
   "cell_type": "markdown",
   "metadata": {},
   "source": [
    "## SOM Setup\n",
    "#### Variables definidas por el alumno"
   ]
  },
  {
   "cell_type": "code",
   "execution_count": 3,
   "metadata": {},
   "outputs": [],
   "source": [
    "# Inicializa tamaño del mapa de Kohonen, número de iteraciones y learning rate\n",
    "# Inicializa normalizar_datos dependiendo de si tienes que normalizar los datos o no\n",
    "lado_mapa = 20\n",
    "periodo = 10000\n",
    "learning_rate = 0.02 \n",
    "normalizar_datos = 'true'"
   ]
  },
  {
   "cell_type": "markdown",
   "metadata": {},
   "source": [
    "#### A partir de este punto solo hay cálculos. No se introducen más valores \"a mano\""
   ]
  },
  {
   "cell_type": "code",
   "execution_count": 4,
   "metadata": {},
   "outputs": [],
   "source": [
    "# Establece el numero de entradas del mapa y el número de datos que se van a usar para entrenar. \n",
    "# Utiliza una función que obtenga automáticamente los valores a partir del Dataset.\n",
    "num_entradas = len(datos)\n",
    "num_datos = len(datos[0])\n",
    "\n",
    "# Calcula el vecindario inicial. Debe ser la mitad del lado del mapa de Kohonen\n",
    "vecindario_inicial = lado_mapa/2\n",
    "\n",
    "# Normaliza los datos si fuese necesario dividiendo cada dato por el máximo en la matriz\n",
    "if normalizar_datos == 'true':\n",
    "    datosN = (datos-np.min(datos))/(np.max(datos)-(np.min(datos)))\n",
    "    \n",
    "# Crea una matriz de pesos con valores random entre 0 y 1. Usa la función random.random de la librería NumPy\n",
    "m_pesos = np.random.random((lado_mapa, lado_mapa, valores_color))"
   ]
  },
  {
   "cell_type": "markdown",
   "metadata": {},
   "source": [
    "#### Funciones para entrenar/clasificar"
   ]
  },
  {
   "cell_type": "markdown",
   "metadata": {},
   "source": [
    "##### Calcular BMU\n",
    "Esta función encuentra la neurona ganadora, calculando la distancia Euclídea neurona-patrón y guardando las coordenadas en la BMU (bmu_idx) "
   ]
  },
  {
   "cell_type": "code",
   "execution_count": 5,
   "metadata": {},
   "outputs": [],
   "source": [
    "# Función para encontrar la BMU\n",
    "\"\"\"\n",
    "   Encuentra la BMU para un patrón de entrada.\n",
    "   Entradas: (patrón_de_entrada, matriz_de_pesos, número_de_entradas)\n",
    "   Salidas:  (bmu, bmu_idx) tupla donde\n",
    "               bmu: vector de pesos de la neurona ganadora\n",
    "               bum_idx: coordenadas de la neurona ganadora\n",
    "\"\"\"\n",
    "def calcular_bmu(patron_entrada, m_pesos, num_entradas):\n",
    "    #inicializamos la distancia minina\n",
    "    dMin = np.iinfo(np.int).max\n",
    "    #recorremos la matriz de pesos\n",
    "    for x in range (m_pesos.shape[0]): #para x\n",
    "        for y in range (m_pesos.shape[1]): #para y\n",
    "            w = m_pesos[x, y] #vector de pesos\n",
    "            dEuclidea = np.sqrt(np.sum((w - patron_entrada)** 2)) #distancia Euclidea\n",
    "            if dEuclidea < dMin:\n",
    "                dMin = dEuclidea\n",
    "                bmu_idx = np.array([x, y])\n",
    "    #vector de pesos de la neurona ganadora\n",
    "    bmu = m_pesos[bmu_idx[0], bmu_idx[1]]\n",
    "    return (bmu, bmu_idx)\n"
   ]
  },
  {
   "cell_type": "markdown",
   "metadata": {},
   "source": [
    "##### Variación learning rate\n",
    "Esta función calcula eta para la i-ésima iteración"
   ]
  },
  {
   "cell_type": "code",
   "execution_count": 6,
   "metadata": {},
   "outputs": [],
   "source": [
    "# Función para calcular el descenso del coeficiente de aprendizaje (eta)\n",
    "\"\"\"\n",
    "   Calcula el Learning Rate (eta) que corresponde a la i-ésima presentación.\n",
    "   Entradas: (learning_rate_inicial, iteracion, período)\n",
    "   Salidas:  learning_rate para la iteración i\n",
    "\n",
    "\"\"\"\n",
    "def variacion_learning_rate(learning_rate, i, periodo):\n",
    "    learning_rateV = learning_rate * (1-(i/periodo))\n",
    "    return learning_rateV"
   ]
  },
  {
   "cell_type": "markdown",
   "metadata": {},
   "source": [
    "##### Variación vecindario\n",
    "Esta función calcula el desdenso del vecindario"
   ]
  },
  {
   "cell_type": "code",
   "execution_count": 7,
   "metadata": {},
   "outputs": [],
   "source": [
    "# Función para calcular el descenso del vecindario (v)\n",
    "\"\"\"\n",
    "   Calcula el vecindario  (v) que corresponde a la i-ésima presentación.\n",
    "   Entradas: (vecindario_inicial, iteracion, período)\n",
    "   Salidas:  lvecindario para la iteración i\n",
    "\n",
    "\"\"\"\n",
    "def variacion_vecindario(vecindario_inicial, i, periodo):\n",
    "    lvecindario = 1 + vecindario_inicial * (1-(i/periodo))\n",
    "    return lvecindario"
   ]
  },
  {
   "cell_type": "markdown",
   "metadata": {},
   "source": [
    "##### Decay\n",
    "Esta función calcula eta en función de la distancia a la BMU"
   ]
  },
  {
   "cell_type": "code",
   "execution_count": 8,
   "metadata": {},
   "outputs": [],
   "source": [
    "# Función para calcular el descenso del coeficiente de aprendizaje (eta) en función de la distancia a la BMU\n",
    "\"\"\"\n",
    "   Calcula la amortiguación de eta en función de la distancia en el mapa entre una neurona y la BMU.\n",
    "   Entradas: (distancia_BMU, vecindario_actual)\n",
    "   Salidas:  amortiguación para la iteración\n",
    "\n",
    "\"\"\"\n",
    "def decay(distancia_BMU, vecindario_actual):\n",
    "    return np.exp(-distancia_BMU**2 / (2*vecindario_actual**2))"
   ]
  },
  {
   "cell_type": "markdown",
   "metadata": {},
   "source": [
    "#### Funciones para dibujar la salida de la red"
   ]
  },
  {
   "cell_type": "markdown",
   "metadata": {},
   "source": [
    "Esta función nos permite pintar la matriz de los valores con los colores RGB"
   ]
  },
  {
   "cell_type": "code",
   "execution_count": 9,
   "metadata": {},
   "outputs": [
    {
     "data": {
      "image/png": "[encoded data removed]",
      "text/plain": [
       "<Figure size 432x288 with 1 Axes>"
      ]
     },
     "metadata": {
      "needs_background": "light"
     },
     "output_type": "display_data"
    }
   ],
   "source": [
    "# Función para pintar una matriz de valores como colores RGB\n",
    "def pintar_mapa(matriz_valores):\n",
    "    fig = plt.figure()\n",
    "    \n",
    "    # Establece ejes\n",
    "    ax = fig.add_subplot(111, aspect='equal')\n",
    "    ax.set_xlim((0, m_pesos.shape[0]+1))\n",
    "    ax.set_ylim((0, m_pesos.shape[1]+1))\n",
    "    ax.set_title('Self-Organising Map después de %d iteraciones' % periodo)\n",
    "\n",
    "    # Dibuja los rectángulos de color RGB\n",
    "    for x in range(1, matriz_valores.shape[0] + 1):\n",
    "        for y in range(1, matriz_valores.shape[1] + 1):\n",
    "            ax.add_patch(patches.Rectangle((x-0.5, y-0.5), 1, 1,\n",
    "                         facecolor=matriz_valores[x-1,y-1,:],\n",
    "                         edgecolor='none'))\n",
    "    plt.show()\n",
    "    \n",
    "pintar_mapa(m_pesos)"
   ]
  },
  {
   "cell_type": "markdown",
   "metadata": {},
   "source": [
    "## SOM Entrenamiento"
   ]
  },
  {
   "cell_type": "markdown",
   "metadata": {},
   "source": [
    "#### Creación del bucle para entrenar la red"
   ]
  },
  {
   "cell_type": "code",
   "execution_count": 37,
   "metadata": {},
   "outputs": [
    {
     "name": "stdout",
     "output_type": "stream",
     "text": [
      "Iteración:  0\n",
      "Iteración:  100\n",
      "Iteración:  200\n",
      "Iteración:  300\n",
      "Iteración:  400\n",
      "Iteración:  500\n",
      "Iteración:  600\n",
      "Iteración:  700\n",
      "Iteración:  800\n",
      "Iteración:  900\n",
      "Iteración:  1000\n",
      "Iteración:  1100\n",
      "Iteración:  1200\n",
      "Iteración:  1300\n",
      "Iteración:  1400\n",
      "Iteración:  1500\n",
      "Iteración:  1600\n",
      "Iteración:  1700\n",
      "Iteración:  1800\n",
      "Iteración:  1900\n",
      "Iteración:  2000\n",
      "Iteración:  2100\n",
      "Iteración:  2200\n",
      "Iteración:  2300\n",
      "Iteración:  2400\n",
      "Iteración:  2500\n",
      "Iteración:  2600\n",
      "Iteración:  2700\n",
      "Iteración:  2800\n",
      "Iteración:  2900\n",
      "Iteración:  3000\n",
      "Iteración:  3100\n",
      "Iteración:  3200\n",
      "Iteración:  3300\n",
      "Iteración:  3400\n",
      "Iteración:  3500\n",
      "Iteración:  3600\n",
      "Iteración:  3700\n",
      "Iteración:  3800\n",
      "Iteración:  3900\n",
      "Iteración:  4000\n",
      "Iteración:  4100\n",
      "Iteración:  4200\n",
      "Iteración:  4300\n",
      "Iteración:  4400\n",
      "Iteración:  4500\n",
      "Iteración:  4600\n",
      "Iteración:  4700\n",
      "Iteración:  4800\n",
      "Iteración:  4900\n",
      "Iteración:  5000\n",
      "Iteración:  5100\n",
      "Iteración:  5200\n",
      "Iteración:  5300\n",
      "Iteración:  5400\n",
      "Iteración:  5500\n",
      "Iteración:  5600\n",
      "Iteración:  5700\n",
      "Iteración:  5800\n",
      "Iteración:  5900\n",
      "Iteración:  6000\n",
      "Iteración:  6100\n",
      "Iteración:  6200\n",
      "Iteración:  6300\n",
      "Iteración:  6400\n",
      "Iteración:  6500\n",
      "Iteración:  6600\n",
      "Iteración:  6700\n",
      "Iteración:  6800\n",
      "Iteración:  6900\n",
      "Iteración:  7000\n",
      "Iteración:  7100\n",
      "Iteración:  7200\n",
      "Iteración:  7300\n",
      "Iteración:  7400\n",
      "Iteración:  7500\n",
      "Iteración:  7600\n",
      "Iteración:  7700\n",
      "Iteración:  7800\n",
      "Iteración:  7900\n",
      "Iteración:  8000\n",
      "Iteración:  8100\n",
      "Iteración:  8200\n",
      "Iteración:  8300\n",
      "Iteración:  8400\n",
      "Iteración:  8500\n",
      "Iteración:  8600\n",
      "Iteración:  8700\n",
      "Iteración:  8800\n",
      "Iteración:  8900\n",
      "Iteración:  9000\n",
      "Iteración:  9100\n",
      "Iteración:  9200\n",
      "Iteración:  9300\n",
      "Iteración:  9400\n",
      "Iteración:  9500\n",
      "Iteración:  9600\n",
      "Iteración:  9700\n",
      "Iteración:  9800\n",
      "Iteración:  9900\n"
     ]
    },
    {
     "data": {
      "text/plain": [
       "array([[[0.64102473, 0.15858812, 0.81729365],\n",
       "        [0.61313116, 0.16628611, 0.8073081 ],\n",
       "        [0.58147812, 0.17469268, 0.79831865],\n",
       "        ...,\n",
       "        [0.16125807, 0.57753982, 0.67487076],\n",
       "        [0.15087097, 0.61854146, 0.6583956 ],\n",
       "        [0.14111227, 0.65479308, 0.64391031]],\n",
       "\n",
       "       [[0.64816041, 0.15918723, 0.79192691],\n",
       "        [0.61501412, 0.16765397, 0.78674053],\n",
       "        [0.57965502, 0.17690992, 0.77453502],\n",
       "        ...,\n",
       "        [0.15937383, 0.6041337 , 0.65836737],\n",
       "        [0.14925594, 0.64724866, 0.64331288],\n",
       "        [0.14017872, 0.68377519, 0.62985637]],\n",
       "\n",
       "       [[0.64154911, 0.16135456, 0.75201672],\n",
       "        [0.61153925, 0.17075296, 0.7535471 ],\n",
       "        [0.5739771 , 0.18101298, 0.74108389],\n",
       "        ...,\n",
       "        [0.15595005, 0.62965742, 0.63443715],\n",
       "        [0.145799  , 0.67562686, 0.62417238],\n",
       "        [0.13755149, 0.71049413, 0.61307205]],\n",
       "\n",
       "       ...,\n",
       "\n",
       "       [[0.64012933, 0.35047081, 0.135359  ],\n",
       "        [0.6405492 , 0.39185575, 0.13766816],\n",
       "        [0.64252616, 0.43956513, 0.13867231],\n",
       "        ...,\n",
       "        [0.76291442, 0.65392371, 0.60880288],\n",
       "        [0.76944457, 0.64089283, 0.65623926],\n",
       "        [0.77061491, 0.63624939, 0.68356767]],\n",
       "\n",
       "       [[0.67183759, 0.37735323, 0.12399738],\n",
       "        [0.67388175, 0.41850649, 0.12649224],\n",
       "        [0.67306828, 0.46741559, 0.12968516],\n",
       "        ...,\n",
       "        [0.79542508, 0.64834295, 0.61258841],\n",
       "        [0.80092703, 0.6332197 , 0.6587256 ],\n",
       "        [0.80395012, 0.62718548, 0.68140352]],\n",
       "\n",
       "       [[0.69861985, 0.40306086, 0.11421796],\n",
       "        [0.70198665, 0.44655313, 0.11896814],\n",
       "        [0.70064986, 0.49448637, 0.12310143],\n",
       "        ...,\n",
       "        [0.81838688, 0.64475031, 0.61278345],\n",
       "        [0.82340333, 0.63204714, 0.64984367],\n",
       "        [0.83023605, 0.61883267, 0.68804949]]])"
      ]
     },
     "execution_count": 37,
     "metadata": {},
     "output_type": "execute_result"
    }
   ],
   "source": [
    "# Entrena la red con el dataset de entrenamiento\n",
    "for i in range(periodo):\n",
    "    if i % 100 == 0: #cada 100 iteraciones imprimimos el número correspondiente\n",
    "        print('Iteración: ', i)\n",
    "    #patrón de entrada escogido al azar y convertido al formato de m_pesos\n",
    "    patron_entrada = datosN[np.random.randint(datos.shape[0])] \n",
    "    #buscamos la BMU\n",
    "    bmu, bmu_idx = calcular_bmu(patron_entrada, m_pesos, num_entradas)\n",
    "    #calculamos eta y el vecindario correspondientes a la iteración i\n",
    "    eta = variacion_learning_rate(learning_rate, i, periodo)\n",
    "    v = variacion_vecindario(vecindario_inicial, i, periodo)\n",
    "\n",
    "    #actualizamos el vector de pesos y así nos acercamos al patrón\n",
    "    for x in range(lado_mapa):\n",
    "        for y in range(lado_mapa):\n",
    "            w = m_pesos[x, y] #actualizamos el vector de pesos\n",
    "            #calculamos la distancia euclídea para cada neurona y acercarnos a la correspondiente\n",
    "            distEuclidea = np.sqrt(np.sum((np.array([x,y]) - bmu_idx)**2))\n",
    "            if distEuclidea <= vecindario_inicial: #si la distancia euclidea es menor o igual que el vecindario\n",
    "                #calculamos la amortigüación \n",
    "                amortiguacion = decay(distEuclidea, v)\n",
    "                #actualizamos el vector de pesos de la neurona\n",
    "                m_pesos[x, y] = w + eta * amortiguacion * (patron_entrada - w)\n",
    "\n",
    "m_pesos"
   ]
  },
  {
   "cell_type": "markdown",
   "metadata": {},
   "source": [
    "Pintamos la matriz de pesos con la función definida anteriormente 'pintar_mapa()'"
   ]
  },
  {
   "cell_type": "code",
   "execution_count": 38,
   "metadata": {},
   "outputs": [
    {
     "data": {
      "image/png": "[encoded data removed]",
      "text/plain": [
       "<Figure size 432x288 with 1 Axes>"
      ]
     },
     "metadata": {
      "needs_background": "light"
     },
     "output_type": "display_data"
    }
   ],
   "source": [
    "pintar_mapa(m_pesos)"
   ]
  },
  {
   "cell_type": "markdown",
   "metadata": {},
   "source": [
    "## SOM Clasificación"
   ]
  },
  {
   "cell_type": "markdown",
   "metadata": {},
   "source": [
    "### Clasifica los patrones de entrenamiento con la matriz de pesos recién entrenada"
   ]
  },
  {
   "cell_type": "markdown",
   "metadata": {
    "collapsed": true
   },
   "source": [
    "#### Definimos e inicializamos las tres matrices\n",
    "##### Mapa de Clasificación: mClasificacion \n",
    "Es una matriz con las mismas dimensiones que m_pesos y guarda en cada neurona el último patron clasificado\n",
    "##### Mapa de Activación: mActivacion\n",
    "Es una matriz bidimensional que guarda el número de patrones reconocido por  cada neurona\n",
    "##### Mapa de Distancias: mDistancias\n",
    "Es una matriz bidimensional que guarda las neuronas con activación>0"
   ]
  },
  {
   "cell_type": "code",
   "execution_count": 39,
   "metadata": {},
   "outputs": [],
   "source": [
    "mClasificacion = np.zeros((lado_mapa, lado_mapa, valores_color))                          \n",
    "mActivacion = np.zeros((lado_mapa, lado_mapa))\n",
    "mDistancias = np.zeros((lado_mapa, lado_mapa))\n",
    "distanciaEuclidea = 0"
   ]
  },
  {
   "cell_type": "markdown",
   "metadata": {},
   "source": [
    "#### Recorremos todo el dataset de entrenamiento"
   ]
  },
  {
   "cell_type": "markdown",
   "metadata": {},
   "source": [
    "##### Imprimimos las coordenadas x e y de la BMU para cada patrón de prueba"
   ]
  },
  {
   "cell_type": "code",
   "execution_count": 40,
   "metadata": {},
   "outputs": [
    {
     "name": "stdout",
     "output_type": "stream",
     "text": [
      "Coordenadas BMU: [0.37301587 0.66269841 0.51984127]\n",
      "X =  10\n",
      "Y =  16\n",
      "Coordenadas BMU: [0.24206349 0.37698413 0.67460317]\n",
      "X =  1\n",
      "Y =  12\n",
      "Coordenadas BMU: [0.43650794 0.05555556 0.62301587]\n",
      "X =  4\n",
      "Y =  3\n",
      "Coordenadas BMU: [0.60714286 0.02777778 0.96031746]\n",
      "X =  0\n",
      "Y =  0\n",
      "Coordenadas BMU: [0.11111111 0.72222222 0.65873016]\n",
      "X =  2\n",
      "Y =  19\n",
      "Coordenadas BMU: [0.60714286 0.6547619  0.66666667]\n",
      "X =  14\n",
      "Y =  19\n",
      "Coordenadas BMU: [0.22222222 0.3531746  0.37301587]\n",
      "X =  7\n",
      "Y =  9\n",
      "Coordenadas BMU: [0.6984127  0.64285714 0.67460317]\n",
      "X =  15\n",
      "Y =  19\n",
      "Coordenadas BMU: [0.49206349 0.0952381  0.75396825]\n",
      "X =  1\n",
      "Y =  3\n",
      "Coordenadas BMU: [0.17460317 0.93253968 0.62301587]\n",
      "X =  5\n",
      "Y =  19\n",
      "Coordenadas BMU: [0.28968254 0.93650794 0.16269841]\n",
      "X =  12\n",
      "Y =  11\n",
      "Coordenadas BMU: [0.79761905 0.4484127  0.61904762]\n",
      "X =  19\n",
      "Y =  19\n",
      "Coordenadas BMU: [0.59126984 0.58730159 0.28968254]\n",
      "X =  14\n",
      "Y =  7\n",
      "Coordenadas BMU: [0.43253968 0.32142857 0.57142857]\n",
      "X =  5\n",
      "Y =  5\n",
      "Coordenadas BMU: [0.59920635 0.71031746 0.48412698]\n",
      "X =  14\n",
      "Y =  15\n",
      "Coordenadas BMU: [0.23015873 0.35714286 0.80952381]\n",
      "X =  0\n",
      "Y =  12\n",
      "Coordenadas BMU: [0.53174603 0.03968254 0.23809524]\n",
      "X =  10\n",
      "Y =  0\n",
      "Coordenadas BMU: [0.1984127  0.1984127  0.73015873]\n",
      "X =  0\n",
      "Y =  9\n",
      "Coordenadas BMU: [0.21428571 0.40079365 0.8452381 ]\n",
      "X =  0\n",
      "Y =  13\n",
      "Coordenadas BMU: [0.40079365 0.26587302 1.        ]\n",
      "X =  0\n",
      "Y =  4\n",
      "Coordenadas BMU: [0.1031746  0.90873016 0.31349206]\n",
      "X =  6\n",
      "Y =  19\n",
      "Coordenadas BMU: [0.71825397 0.25793651 0.25      ]\n",
      "X =  16\n",
      "Y =  0\n",
      "Coordenadas BMU: [0.93650794 0.74206349 0.30952381]\n",
      "X =  19\n",
      "Y =  13\n",
      "Coordenadas BMU: [0.0515873  0.65079365 0.26587302]\n",
      "X =  8\n",
      "Y =  14\n",
      "Coordenadas BMU: [0.88492063 0.21825397 0.        ]\n",
      "X =  19\n",
      "Y =  0\n",
      "Coordenadas BMU: [0.31349206 0.41666667 0.63888889]\n",
      "X =  3\n",
      "Y =  12\n",
      "Coordenadas BMU: [0.36111111 0.08730159 0.17857143]\n",
      "X =  11\n",
      "Y =  0\n",
      "Coordenadas BMU: [0.56349206 0.67857143 0.61111111]\n",
      "X =  13\n",
      "Y =  18\n",
      "Coordenadas BMU: [0.11507937 0.90873016 0.4047619 ]\n",
      "X =  6\n",
      "Y =  19\n",
      "Coordenadas BMU: [0.68650794 0.03174603 0.3452381 ]\n",
      "X =  8\n",
      "Y =  0\n",
      "Coordenadas BMU: [0.92460317 0.21825397 0.62301587]\n",
      "X =  3\n",
      "Y =  0\n",
      "Coordenadas BMU: [0.3968254  0.36111111 0.12698413]\n",
      "X =  13\n",
      "Y =  3\n",
      "Coordenadas BMU: [0.79365079 0.75396825 0.02380952]\n",
      "X =  19\n",
      "Y =  7\n",
      "Coordenadas BMU: [0.70238095 0.6984127  0.28968254]\n",
      "X =  17\n",
      "Y =  12\n",
      "Coordenadas BMU: [0.79365079 0.88095238 0.34920635]\n",
      "X =  19\n",
      "Y =  12\n",
      "Coordenadas BMU: [0.06746032 0.10714286 0.64285714]\n",
      "X =  1\n",
      "Y =  9\n",
      "Coordenadas BMU: [0.70634921 0.25       0.97619048]\n",
      "X =  0\n",
      "Y =  0\n",
      "Coordenadas BMU: [0.29365079 0.3531746  0.60714286]\n",
      "X =  3\n",
      "Y =  9\n",
      "Coordenadas BMU: [1.         0.5        0.81349206]\n",
      "X =  19\n",
      "Y =  19\n",
      "Coordenadas BMU: [0.39285714 0.07142857 0.18650794]\n",
      "X =  11\n",
      "Y =  0\n",
      "Coordenadas BMU: [0.83333333 0.50396825 0.66666667]\n",
      "X =  19\n",
      "Y =  19\n",
      "Coordenadas BMU: [0.26190476 0.87301587 0.29761905]\n",
      "X =  8\n",
      "Y =  18\n",
      "Coordenadas BMU: [0.43650794 0.20634921 0.3015873 ]\n",
      "X =  10\n",
      "Y =  2\n",
      "Coordenadas BMU: [0.71825397 0.02777778 0.59920635]\n",
      "X =  4\n",
      "Y =  0\n",
      "Coordenadas BMU: [0.71825397 0.6547619  0.17857143]\n",
      "X =  19\n",
      "Y =  5\n",
      "Coordenadas BMU: [0.56746032 0.26984127 0.50793651]\n",
      "X =  6\n",
      "Y =  2\n",
      "Coordenadas BMU: [0.56746032 0.55952381 0.53571429]\n",
      "X =  14\n",
      "Y =  16\n",
      "Coordenadas BMU: [0.63492063 0.6468254  0.97619048]\n",
      "X =  16\n",
      "Y =  19\n",
      "Coordenadas BMU: [0.28571429 0.01984127 0.62301587]\n",
      "X =  2\n",
      "Y =  6\n",
      "Coordenadas BMU: [0.57936508 0.45634921 0.36111111]\n",
      "X =  12\n",
      "Y =  5\n",
      "Coordenadas BMU: [0.04365079 0.76587302 0.57539683]\n",
      "X =  3\n",
      "Y =  19\n",
      "Coordenadas BMU: [0.19047619 0.34920635 0.57539683]\n",
      "X =  4\n",
      "Y =  10\n",
      "Coordenadas BMU: [0.42460317 0.86904762 0.01587302]\n",
      "X =  14\n",
      "Y =  10\n",
      "Coordenadas BMU: [0.21428571 0.36904762 0.5515873 ]\n",
      "X =  4\n",
      "Y =  11\n",
      "Coordenadas BMU: [0.88095238 0.92063492 0.        ]\n",
      "X =  19\n",
      "Y =  8\n",
      "Coordenadas BMU: [0.14285714 0.47619048 0.43650794]\n",
      "X =  7\n",
      "Y =  12\n",
      "Coordenadas BMU: [0.28968254 0.28968254 0.40873016]\n",
      "X =  7\n",
      "Y =  7\n",
      "Coordenadas BMU: [0.28174603 0.5515873  0.13888889]\n",
      "X =  11\n",
      "Y =  9\n",
      "Coordenadas BMU: [0.47619048 0.33730159 0.53968254]\n",
      "X =  6\n",
      "Y =  4\n",
      "Coordenadas BMU: [0.99206349 0.89285714 0.98809524]\n",
      "X =  19\n",
      "Y =  19\n",
      "Coordenadas BMU: [0.20634921 0.23015873 0.43650794]\n",
      "X =  6\n",
      "Y =  8\n",
      "Coordenadas BMU: [0.46031746 0.44444444 0.03174603]\n",
      "X =  14\n",
      "Y =  4\n",
      "Coordenadas BMU: [0.13492063 0.1468254  0.49603175]\n",
      "X =  4\n",
      "Y =  9\n",
      "Coordenadas BMU: [0.72619048 0.07936508 0.95634921]\n",
      "X =  0\n",
      "Y =  0\n",
      "Coordenadas BMU: [0.63492063 0.88888889 0.6984127 ]\n",
      "X =  13\n",
      "Y =  19\n",
      "Coordenadas BMU: [0.0952381  0.70634921 0.65873016]\n",
      "X =  1\n",
      "Y =  19\n",
      "Coordenadas BMU: [0.96031746 0.88095238 0.28571429]\n",
      "X =  19\n",
      "Y =  12\n",
      "Coordenadas BMU: [0.58730159 0.15873016 0.83730159]\n",
      "X =  0\n",
      "Y =  1\n",
      "Coordenadas BMU: [0.17857143 0.56349206 0.88095238]\n",
      "X =  0\n",
      "Y =  16\n",
      "Coordenadas BMU: [0.99603175 0.86111111 0.05555556]\n",
      "X =  19\n",
      "Y =  8\n",
      "Coordenadas BMU: [0.28174603 0.51190476 0.92063492]\n",
      "X =  0\n",
      "Y =  15\n",
      "Coordenadas BMU: [0.51984127 0.44444444 0.35714286]\n",
      "X =  11\n",
      "Y =  6\n",
      "Coordenadas BMU: [0.65079365 0.84126984 0.21031746]\n",
      "X =  17\n",
      "Y =  10\n",
      "Coordenadas BMU: [0.21428571 0.43253968 0.49603175]\n",
      "X =  6\n",
      "Y =  12\n",
      "Coordenadas BMU: [0.71031746 0.24206349 0.73015873]\n",
      "X =  2\n",
      "Y =  0\n",
      "Coordenadas BMU: [1.         0.34920635 0.57142857]\n",
      "X =  19\n",
      "Y =  19\n",
      "Coordenadas BMU: [0.82539683 0.23015873 0.82936508]\n",
      "X =  1\n",
      "Y =  0\n",
      "Coordenadas BMU: [0.96031746 0.58333333 0.54761905]\n",
      "X =  19\n",
      "Y =  17\n",
      "Coordenadas BMU: [0.0515873  0.91269841 0.56349206]\n",
      "X =  5\n",
      "Y =  19\n",
      "Coordenadas BMU: [0.86507937 0.14285714 0.63492063]\n",
      "X =  3\n",
      "Y =  0\n",
      "Coordenadas BMU: [0.19444444 0.94444444 0.88888889]\n",
      "X =  2\n",
      "Y =  19\n",
      "Coordenadas BMU: [0.72222222 0.90873016 0.05555556]\n",
      "X =  19\n",
      "Y =  8\n",
      "Coordenadas BMU: [0.5        0.10714286 0.13095238]\n",
      "X =  12\n",
      "Y =  0\n",
      "Coordenadas BMU: [0.87698413 0.76984127 0.73809524]\n",
      "X =  19\n",
      "Y =  19\n",
      "Coordenadas BMU: [0.98809524 0.78174603 0.1031746 ]\n",
      "X =  19\n",
      "Y =  8\n",
      "Coordenadas BMU: [0.32539683 0.07142857 0.07936508]\n",
      "X =  12\n",
      "Y =  0\n",
      "Coordenadas BMU: [0.98412698 0.37698413 0.03174603]\n",
      "X =  19\n",
      "Y =  0\n",
      "Coordenadas BMU: [0.46428571 0.84126984 0.12301587]\n",
      "X =  14\n",
      "Y =  10\n",
      "Coordenadas BMU: [0.06746032 0.78968254 0.40873016]\n",
      "X =  6\n",
      "Y =  19\n",
      "Coordenadas BMU: [0.1031746  0.22222222 0.81746032]\n",
      "X =  0\n",
      "Y =  10\n",
      "Coordenadas BMU: [0.41666667 0.5        0.22222222]\n",
      "X =  11\n",
      "Y =  7\n",
      "Coordenadas BMU: [0.1468254  0.3015873  0.86904762]\n",
      "X =  0\n",
      "Y =  11\n",
      "Coordenadas BMU: [0.33333333 0.61507937 0.06746032]\n",
      "X =  12\n",
      "Y =  9\n",
      "Coordenadas BMU: [0.48809524 0.31746032 0.71031746]\n",
      "X =  2\n",
      "Y =  4\n",
      "Coordenadas BMU: [0.60714286 0.54365079 0.11111111]\n",
      "X =  17\n",
      "Y =  4\n",
      "Coordenadas BMU: [0.71031746 0.70238095 0.26190476]\n",
      "X =  17\n",
      "Y =  12\n",
      "Coordenadas BMU: [0.42063492 0.25396825 0.15079365]\n",
      "X =  12\n",
      "Y =  1\n",
      "Coordenadas BMU: [0.21428571 0.38888889 0.28571429]\n",
      "X =  8\n",
      "Y =  9\n",
      "Coordenadas BMU: [0.61904762 0.55952381 0.72222222]\n",
      "X =  15\n",
      "Y =  19\n",
      "Coordenadas BMU: [0.57142857 0.06349206 0.95634921]\n",
      "X =  0\n",
      "Y =  0\n"
     ]
    }
   ],
   "source": [
    "for i in range (0, num_colores):\n",
    "    bmu, bmu_idx = calcular_bmu(datosN[i], m_pesos, num_entradas)\n",
    "    #actualizamos el mapa de clasificación, añadiendo el patrón en la neurona que lo ha reconocido\n",
    "    mClasificacion[bmu_idx[0], bmu_idx[1]] = datosN[i]\n",
    "    #actualizamos el mapa de activación, +1 en las activaciones\n",
    "    mActivacion[bmu_idx[0], bmu_idx[1]] =+ 1\n",
    "    distanciaEuclidea = np.sqrt(np.sum((bmu - datosN[i])**2)) #calculamos la distancia euclidea\n",
    "    mDistancias[bmu_idx[0], bmu_idx[1]] =+ distanciaEuclidea\n",
    "    print('Coordenadas BMU:', datosN[i])\n",
    "    print('X = ', bmu_idx[0])\n",
    "    print('Y = ', bmu_idx[1])   \n",
    "    "
   ]
  },
  {
   "cell_type": "markdown",
   "metadata": {},
   "source": [
    "##### Calculamos los mapas de clasificación, activación, y distancias"
   ]
  },
  {
   "cell_type": "code",
   "execution_count": 41,
   "metadata": {},
   "outputs": [
    {
     "name": "stdout",
     "output_type": "stream",
     "text": [
      "Mapa de Clasificación\n"
     ]
    },
    {
     "data": {
      "image/png": "[encoded data removed]",
      "text/plain": [
       "<Figure size 432x288 with 1 Axes>"
      ]
     },
     "metadata": {
      "needs_background": "light"
     },
     "output_type": "display_data"
    },
    {
     "name": "stdout",
     "output_type": "stream",
     "text": [
      "\n",
      "Mapa de Activación\n",
      "[[1. 1. 0. 0. 1. 0. 0. 0. 0. 1. 1. 1. 1. 1. 0. 1. 1. 0. 0. 0.]\n",
      " [1. 0. 0. 1. 0. 0. 0. 0. 0. 1. 0. 0. 1. 0. 0. 0. 0. 0. 0. 1.]\n",
      " [1. 0. 0. 0. 1. 0. 1. 0. 0. 0. 0. 0. 0. 0. 0. 0. 0. 0. 0. 1.]\n",
      " [1. 0. 0. 0. 0. 0. 0. 0. 0. 1. 0. 0. 1. 0. 0. 0. 0. 0. 0. 1.]\n",
      " [1. 0. 0. 1. 0. 0. 0. 0. 0. 1. 1. 1. 0. 0. 0. 0. 0. 0. 0. 0.]\n",
      " [0. 0. 0. 0. 0. 1. 0. 0. 0. 0. 0. 0. 0. 0. 0. 0. 0. 0. 0. 1.]\n",
      " [0. 0. 1. 0. 1. 0. 0. 0. 1. 0. 0. 0. 1. 0. 0. 0. 0. 0. 0. 1.]\n",
      " [0. 0. 0. 0. 0. 0. 0. 1. 0. 1. 0. 0. 1. 0. 0. 0. 0. 0. 0. 0.]\n",
      " [1. 0. 0. 0. 0. 0. 0. 0. 0. 1. 0. 0. 0. 0. 1. 0. 0. 0. 1. 0.]\n",
      " [0. 0. 0. 0. 0. 0. 0. 0. 0. 0. 0. 0. 0. 0. 0. 0. 0. 0. 0. 0.]\n",
      " [1. 0. 1. 0. 0. 0. 0. 0. 0. 0. 0. 0. 0. 0. 0. 0. 1. 0. 0. 0.]\n",
      " [1. 0. 0. 0. 0. 0. 1. 1. 0. 1. 0. 0. 0. 0. 0. 0. 0. 0. 0. 0.]\n",
      " [1. 1. 0. 0. 0. 1. 0. 0. 0. 1. 0. 1. 0. 0. 0. 0. 0. 0. 0. 0.]\n",
      " [0. 0. 0. 1. 0. 0. 0. 0. 0. 0. 0. 0. 0. 0. 0. 0. 0. 0. 1. 1.]\n",
      " [0. 0. 0. 0. 1. 0. 0. 1. 0. 0. 1. 0. 0. 0. 0. 1. 1. 0. 0. 1.]\n",
      " [0. 0. 0. 0. 0. 0. 0. 0. 0. 0. 0. 0. 0. 0. 0. 0. 0. 0. 0. 1.]\n",
      " [1. 0. 0. 0. 0. 0. 0. 0. 0. 0. 0. 0. 0. 0. 0. 0. 0. 0. 0. 1.]\n",
      " [0. 0. 0. 0. 1. 0. 0. 0. 0. 0. 1. 0. 1. 0. 0. 0. 0. 0. 0. 0.]\n",
      " [0. 0. 0. 0. 0. 0. 0. 0. 0. 0. 0. 0. 0. 0. 0. 0. 0. 0. 0. 0.]\n",
      " [1. 0. 0. 0. 0. 1. 0. 1. 1. 0. 0. 0. 1. 1. 0. 0. 0. 1. 0. 1.]]\n",
      "\n",
      "Mapa de Distancias\n",
      "[[0.18227269 0.04029725 0.         0.         0.25926687 0.\n",
      "  0.         0.         0.         0.10070945 0.18343686 0.18260583\n",
      "  0.10916335 0.13912209 0.         0.24395976 0.19383585 0.\n",
      "  0.         0.        ]\n",
      " [0.19455415 0.         0.         0.10339019 0.         0.\n",
      "  0.         0.         0.         0.2536013  0.         0.\n",
      "  0.04001615 0.         0.         0.         0.         0.\n",
      "  0.         0.05799087]\n",
      " [0.1082626  0.         0.         0.         0.10942256 0.\n",
      "  0.24072046 0.         0.         0.         0.         0.\n",
      "  0.         0.         0.         0.         0.         0.\n",
      "  0.         0.36612086]\n",
      " [0.2428882  0.         0.         0.         0.         0.\n",
      "  0.         0.         0.         0.06558586 0.         0.\n",
      "  0.11051927 0.         0.         0.         0.         0.\n",
      "  0.         0.10086667]\n",
      " [0.1791626  0.         0.         0.1676498  0.         0.\n",
      "  0.         0.         0.         0.21841296 0.03569835 0.02197337\n",
      "  0.         0.         0.         0.         0.         0.\n",
      "  0.         0.        ]\n",
      " [0.         0.         0.         0.         0.         0.07101744\n",
      "  0.         0.         0.         0.         0.         0.\n",
      "  0.         0.         0.         0.         0.         0.\n",
      "  0.         0.16624934]\n",
      " [0.         0.         0.08631122 0.         0.09755792 0.\n",
      "  0.         0.         0.14004037 0.         0.         0.\n",
      "  0.02014638 0.         0.         0.         0.         0.\n",
      "  0.         0.16124507]\n",
      " [0.         0.         0.         0.         0.         0.\n",
      "  0.         0.06969782 0.         0.08739629 0.         0.\n",
      "  0.09228952 0.         0.         0.         0.         0.\n",
      "  0.         0.        ]\n",
      " [0.21952967 0.         0.         0.         0.         0.\n",
      "  0.         0.         0.         0.12974331 0.         0.\n",
      "  0.         0.         0.27256008 0.         0.         0.\n",
      "  0.23378694 0.        ]\n",
      " [0.         0.         0.         0.         0.         0.\n",
      "  0.         0.         0.         0.         0.         0.\n",
      "  0.         0.         0.         0.         0.         0.\n",
      "  0.         0.        ]\n",
      " [0.14605571 0.         0.04915684 0.         0.         0.\n",
      "  0.         0.         0.         0.         0.         0.\n",
      "  0.         0.         0.         0.         0.05387252 0.\n",
      "  0.         0.        ]\n",
      " [0.14881273 0.         0.         0.         0.         0.\n",
      "  0.1253705  0.04048964 0.         0.16417737 0.         0.\n",
      "  0.         0.         0.         0.         0.         0.\n",
      "  0.         0.        ]\n",
      " [0.23749415 0.08541639 0.         0.         0.         0.1691277\n",
      "  0.         0.         0.         0.19314715 0.         0.32619678\n",
      "  0.         0.         0.         0.         0.         0.\n",
      "  0.         0.        ]\n",
      " [0.         0.         0.         0.12765261 0.         0.\n",
      "  0.         0.         0.         0.         0.         0.\n",
      "  0.         0.         0.         0.         0.         0.\n",
      "  0.02616351 0.20726543]\n",
      " [0.         0.         0.         0.         0.16816469 0.\n",
      "  0.         0.11214704 0.         0.         0.18037216 0.\n",
      "  0.         0.         0.         0.02466899 0.13572291 0.\n",
      "  0.         0.0446038 ]\n",
      " [0.         0.         0.         0.         0.         0.\n",
      "  0.         0.         0.         0.         0.         0.\n",
      "  0.         0.         0.         0.         0.         0.\n",
      "  0.         0.13663626]\n",
      " [0.1667336  0.         0.         0.         0.         0.\n",
      "  0.         0.         0.         0.         0.         0.\n",
      "  0.         0.         0.         0.         0.         0.\n",
      "  0.         0.31431251]\n",
      " [0.         0.         0.         0.         0.04924281 0.\n",
      "  0.         0.         0.         0.         0.09130453 0.\n",
      "  0.05331582 0.         0.         0.         0.         0.\n",
      "  0.         0.        ]\n",
      " [0.         0.         0.         0.         0.         0.\n",
      "  0.         0.         0.         0.         0.         0.\n",
      "  0.         0.         0.         0.         0.         0.\n",
      "  0.         0.        ]\n",
      " [0.29832187 0.         0.         0.         0.         0.0486264\n",
      "  0.         0.13062769 0.25131847 0.         0.         0.\n",
      "  0.23316215 0.1706697  0.         0.         0.         0.16781756\n",
      "  0.         0.16581181]]\n"
     ]
    }
   ],
   "source": [
    "print('Mapa de Clasificación')\n",
    "pintar_mapa(mClasificacion)\n",
    "print('\\nMapa de Activación')\n",
    "print(mActivacion)\n",
    "print('\\nMapa de Distancias')\n",
    "print(mDistancias)"
   ]
  },
  {
   "cell_type": "markdown",
   "metadata": {},
   "source": [
    "##### Calculamos el número de clases"
   ]
  },
  {
   "cell_type": "code",
   "execution_count": 42,
   "metadata": {},
   "outputs": [
    {
     "name": "stdout",
     "output_type": "stream",
     "text": [
      "Número de clases:  77\n"
     ]
    }
   ],
   "source": [
    "num_clases = np.count_nonzero(mActivacion)\n",
    "print('Número de clases: ', num_clases)"
   ]
  },
  {
   "cell_type": "markdown",
   "metadata": {},
   "source": [
    "##### Calculamos el Error de Cuantificación y el Error Topológico del mapa"
   ]
  },
  {
   "cell_type": "code",
   "execution_count": 43,
   "metadata": {
    "scrolled": true
   },
   "outputs": [
    {
     "name": "stdout",
     "output_type": "stream",
     "text": [
      "Error de Cuantificación:  0.14471503177148792\n"
     ]
    }
   ],
   "source": [
    "#error de cuantificación\n",
    "eCuantificacion = (np.sum(mDistancias))/(np.sum(mActivacion))\n",
    "print('Error de Cuantificación: ', eCuantificacion)\n"
   ]
  },
  {
   "cell_type": "code",
   "execution_count": 46,
   "metadata": {},
   "outputs": [
    {
     "ename": "IndentationError",
     "evalue": "expected an indented block (<ipython-input-46-d5552abf4f6a>, line 7)",
     "output_type": "error",
     "traceback": [
      "\u001b[1;36m  File \u001b[1;32m\"<ipython-input-46-d5552abf4f6a>\"\u001b[1;36m, line \u001b[1;32m7\u001b[0m\n\u001b[1;33m    bmu = np.argsort(som.get_surface_state(), axis=1)[:,:2]\u001b[0m\n\u001b[1;37m    ^\u001b[0m\n\u001b[1;31mIndentationError\u001b[0m\u001b[1;31m:\u001b[0m expected an indented block\n"
     ]
    }
   ],
   "source": [
    "#error topológico\n",
    "def calculate_topographical_error(patron_entrada, m_pesos, num_entradas):\n",
    "    x = bmu_idx[0]\n",
    "    y = bmu_idx[1]\n",
    "    for a in [x-1,x,x+1]:\n",
    "        for b in [y-1,y,y+1]:\n",
    "    bmu = np.argsort(som.get_surface_state(), axis=1)[:,:2]\n",
    "\n",
    "    neighbors=list(map(lambda t:variacion_vecindario(vecindario_inicial, i, periodo), bmu[:,0]))\n",
    "\n",
    "    e_t=1-np.mean([second in neighs for (second,neighs) in zip(bmu[:,1], neighbors)])\n",
    "    return(eTopologico)\n",
    "\n",
    "\n",
    "print('Error de Cuantificación: ', eTopologico)"
   ]
  },
  {
   "cell_type": "markdown",
   "metadata": {},
   "source": [
    "## SOM Prueba"
   ]
  },
  {
   "cell_type": "code",
   "execution_count": null,
   "metadata": {},
   "outputs": [],
   "source": [
    "# Clasifica nuevos patrones\n",
    "\n"
   ]
  }
 ],
 "metadata": {
  "anaconda-cloud": {},
  "kernelspec": {
   "display_name": "Python 3",
   "language": "python",
   "name": "python3"
  },
  "language_info": {
   "codemirror_mode": {
    "name": "ipython",
    "version": 3
   },
   "file_extension": ".py",
   "mimetype": "text/x-python",
   "name": "python",
   "nbconvert_exporter": "python",
   "pygments_lexer": "ipython3",
   "version": "3.7.3"
  }
 },
 "nbformat": 4,
 "nbformat_minor": 2
}
