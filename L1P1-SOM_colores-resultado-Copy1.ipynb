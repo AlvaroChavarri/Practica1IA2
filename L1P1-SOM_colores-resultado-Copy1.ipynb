{
 "cells": [
  {
   "cell_type": "markdown",
   "metadata": {},
   "source": [
    "# Práctica 1 - Self-Organising Maps - COLORES\n",
    "## Preparación de entorno\n",
    "#### Importar librerías de código"
   ]
  },
  {
   "cell_type": "markdown",
   "metadata": {},
   "source": [
    "Álvaro Chavarri, Daniel Ojeda, Carlos Vega y Lucía Gálvez"
   ]
  },
  {
   "cell_type": "code",
   "execution_count": 85,
   "metadata": {
    "scrolled": true
   },
   "outputs": [],
   "source": [
    "# from __future__ import division\n",
    "\n",
    "import numpy as np\n",
    "from matplotlib import pyplot as plt\n",
    "from matplotlib import patches as patches\n",
    "import seaborn as sns\n",
    "from mpl_toolkits.mplot3d import Axes3D\n",
    "\n",
    "%matplotlib inline"
   ]
  },
  {
   "cell_type": "markdown",
   "metadata": {},
   "source": [
    "#### Dataset que se va a utilizar para el entrenamiento"
   ]
  },
  {
   "cell_type": "code",
   "execution_count": 86,
   "metadata": {},
   "outputs": [],
   "source": [
    "# Código para obtener el Dataset que se va a usar en el entrenamiento\n",
    "valor_min = 0\n",
    "valor_max = 255\n",
    "valores_color = 3\n",
    "num_colores = 100\n",
    "# creamos la matriz por separado\n",
    "datos = np.random.randint(valor_min, valor_max, (num_colores, valores_color))"
   ]
  },
  {
   "cell_type": "markdown",
   "metadata": {},
   "source": [
    "## SOM Setup\n",
    "#### Variables definidas por el alumno"
   ]
  },
  {
   "cell_type": "code",
   "execution_count": 87,
   "metadata": {},
   "outputs": [],
   "source": [
    "# Inicializa tamaño del mapa de Kohonen, número de iteraciones y learning rate\n",
    "# Inicializa normalizar_datos dependiendo de si tienes que normalizar los datos o no\n",
    "lado_mapa = 20\n",
    "periodo = 10000\n",
    "learning_rate = 0.02 \n",
    "normalizar_datos = 'true'"
   ]
  },
  {
   "cell_type": "markdown",
   "metadata": {},
   "source": [
    "#### A partir de este punto solo hay cálculos. No se introducen más valores \"a mano\""
   ]
  },
  {
   "cell_type": "code",
   "execution_count": 88,
   "metadata": {},
   "outputs": [],
   "source": [
    "# Establece el numero de entradas del mapa y el número de datos que se van a usar para entrenar. \n",
    "# Utiliza una función que obtenga automáticamente los valores a partir del Dataset.\n",
    "num_entradas = len(datos)\n",
    "num_datos = len(datos[0])\n",
    "\n",
    "# Calcula el vecindario inicial. Debe ser la mitad del lado del mapa de Kohonen\n",
    "vecindario_inicial = lado_mapa/2\n",
    "\n",
    "# Normaliza los datos si fuese necesario dividiendo cada dato por el máximo en la matriz\n",
    "if normalizar_datos == 'true':\n",
    "    datosN = (datos-np.min(datos))/(np.max(datos)-(np.min(datos)))\n",
    "    \n",
    "# Crea una matriz de pesos con valores random entre 0 y 1. Usa la función random.random de la librería NumPy\n",
    "m_pesos = np.random.random((lado_mapa, lado_mapa, valores_color))"
   ]
  },
  {
   "cell_type": "markdown",
   "metadata": {},
   "source": [
    "#### Funciones para entrenar/clasificar"
   ]
  },
  {
   "cell_type": "code",
   "execution_count": 89,
   "metadata": {},
   "outputs": [],
   "source": [
    "def distancia_euclidea(array1, array2):\n",
    "    distancia = 0\n",
    "    for i in range(0, array1.shape[0]):\n",
    "            distancia = distancia + (array1[i] - array2[i]) ** 2\n",
    "    return distancia"
   ]
  },
  {
   "cell_type": "markdown",
   "metadata": {},
   "source": [
    "##### Calcular BMU\n",
    "Esta función encuentra la neurona ganadora, calculando la distancia Euclídea neurona-patrón y guardando las coordenadas en la BMU (bmu_idx) "
   ]
  },
  {
   "cell_type": "code",
   "execution_count": 90,
   "metadata": {},
   "outputs": [],
   "source": [
    "# Función para encontrar la BMU\n",
    "\"\"\"\n",
    "   Encuentra la BMU para un patrón de entrada.\n",
    "   Entradas: (patrón_de_entrada, matriz_de_pesos, número_de_entradas)\n",
    "   Salidas:  (bmu, bmu_idx) tupla donde\n",
    "               bmu: vector de pesos de la neurona ganadora\n",
    "               bum_idx: coordenadas de la neurona ganadora\n",
    "\"\"\"\n",
    "def calcular_bmu(patron_entrada, m_pesos, num_entradas):\n",
    "    #inicializamos la distancia minina\n",
    "    dMin = np.iinfo(np.int).max\n",
    "    #recorremos la matriz de pesos\n",
    "    for x in range (m_pesos.shape[0]): #para x\n",
    "        for y in range (m_pesos.shape[1]): #para y\n",
    "            w = m_pesos[x, y] #vector de pesos\n",
    "            dEuclidea = np.sqrt(np.sum((w - patron_entrada)** 2)) #distancia Euclidea\n",
    "            if dEuclidea < dMin:\n",
    "                dMin = dEuclidea\n",
    "                bmu_idx = np.array([x, y])\n",
    "    #vector de pesos de la neurona ganadora\n",
    "    bmu = m_pesos[bmu_idx[0], bmu_idx[1]]\n",
    "    return (bmu, bmu_idx)\n"
   ]
  },
  {
   "cell_type": "code",
   "execution_count": 91,
   "metadata": {},
   "outputs": [],
   "source": [
    "def calcular_segunda_bmu(patron_entrada, m_pesos, num_entradas, coordenadas_bmu):\n",
    "   \n",
    "    # Inicializamos las variables.\n",
    "    bmu_idx = np.array([0, 0])\n",
    "    bmu = np.array([None, None, None])\n",
    "    distancia = None\n",
    "    \n",
    "    # Calculamos la distancia entre el patrón de entrada y cada una de las neuronas existentes en la capa.    \n",
    "    for x in range(0,m_pesos.shape[0]):\n",
    "        for y in range(0,m_pesos.shape[1]):\n",
    "            # Guardamos la matriz de pesos.\n",
    "            w = m_pesos[x][y]\n",
    "            coordenadas2 = [x, y]\n",
    "            dEuclidea=0\n",
    "            # Calculamos la distancia euclídea.\n",
    "            dEuclidea = np.sqrt(np.sum((w - patron_entrada)** 2))\n",
    "\n",
    "            # Comprobamos si la distancia entre neuronas es menor que la distancia euclidea calculada, para encontrar la segunda\n",
    "            #ganadora.\n",
    "            if distancia == None or dEuclidea < distancia: \n",
    "                if np.array_equal(coordenadas2, coordenadas_bmu) == False:\n",
    "                    distancia = dEuclidea\n",
    "                    bmu = w\n",
    "                    bmu_idx = np.array([x, y])\n",
    "                    \n",
    "    return (bmu, bmu_idx) "
   ]
  },
  {
   "cell_type": "markdown",
   "metadata": {},
   "source": [
    "##### Variación learning rate\n",
    "Esta función calcula eta para la i-ésima iteración"
   ]
  },
  {
   "cell_type": "code",
   "execution_count": 92,
   "metadata": {},
   "outputs": [],
   "source": [
    "# Función para calcular el descenso del coeficiente de aprendizaje (eta)\n",
    "\"\"\"\n",
    "   Calcula el Learning Rate (eta) que corresponde a la i-ésima presentación.\n",
    "   Entradas: (learning_rate_inicial, iteracion, período)\n",
    "   Salidas:  learning_rate para la iteración i\n",
    "\n",
    "\"\"\"\n",
    "def variacion_learning_rate(learning_rate, i, periodo):\n",
    "    learning_rateV = learning_rate * (1-(i/periodo))\n",
    "    return learning_rateV"
   ]
  },
  {
   "cell_type": "markdown",
   "metadata": {},
   "source": [
    "##### Variación vecindario\n",
    "Esta función calcula el desdenso del vecindario"
   ]
  },
  {
   "cell_type": "code",
   "execution_count": 93,
   "metadata": {},
   "outputs": [],
   "source": [
    "# Función para calcular el descenso del vecindario (v)\n",
    "\"\"\"\n",
    "   Calcula el vecindario  (v) que corresponde a la i-ésima presentación.\n",
    "   Entradas: (vecindario_inicial, iteracion, período)\n",
    "   Salidas:  lvecindario para la iteración i\n",
    "\n",
    "\"\"\"\n",
    "def variacion_vecindario(vecindario_inicial, i, periodo):\n",
    "    lvecindario = 1 + vecindario_inicial * (1-(i/periodo))\n",
    "    return lvecindario"
   ]
  },
  {
   "cell_type": "markdown",
   "metadata": {},
   "source": [
    "##### Decay\n",
    "Esta función calcula eta en función de la distancia a la BMU"
   ]
  },
  {
   "cell_type": "code",
   "execution_count": 94,
   "metadata": {},
   "outputs": [],
   "source": [
    "# Función para calcular el descenso del coeficiente de aprendizaje (eta) en función de la distancia a la BMU\n",
    "\"\"\"\n",
    "   Calcula la amortiguación de eta en función de la distancia en el mapa entre una neurona y la BMU.\n",
    "   Entradas: (distancia_BMU, vecindario_actual)\n",
    "   Salidas:  amortiguación para la iteración\n",
    "\n",
    "\"\"\"\n",
    "def decay(distancia_BMU, vecindario_actual):\n",
    "    return np.exp(-distancia_BMU**2 / (2*vecindario_actual**2))"
   ]
  },
  {
   "cell_type": "markdown",
   "metadata": {},
   "source": [
    "#### Funciones para dibujar la salida de la red"
   ]
  },
  {
   "cell_type": "markdown",
   "metadata": {},
   "source": [
    "Esta función nos permite pintar la matriz de los valores con los colores RGB"
   ]
  },
  {
   "cell_type": "code",
   "execution_count": 95,
   "metadata": {},
   "outputs": [
    {
     "data": {
      "image/png": "[encoded data removed]",
      "text/plain": [
       "<Figure size 432x288 with 1 Axes>"
      ]
     },
     "metadata": {
      "needs_background": "light"
     },
     "output_type": "display_data"
    }
   ],
   "source": [
    "# Función para pintar una matriz de valores como colores RGB\n",
    "def pintar_mapa(matriz_valores):\n",
    "    fig = plt.figure()\n",
    "    \n",
    "    # Establece ejes\n",
    "    ax = fig.add_subplot(111, aspect='equal')\n",
    "    ax.set_xlim((0, m_pesos.shape[0]+1))\n",
    "    ax.set_ylim((0, m_pesos.shape[1]+1))\n",
    "    ax.set_title('Self-Organising Map después de %d iteraciones' % periodo)\n",
    "\n",
    "    # Dibuja los rectángulos de color RGB\n",
    "    for x in range(1, matriz_valores.shape[0] + 1):\n",
    "        for y in range(1, matriz_valores.shape[1] + 1):\n",
    "            ax.add_patch(patches.Rectangle((x-0.5, y-0.5), 1, 1,\n",
    "                         facecolor=matriz_valores[x-1,y-1,:],\n",
    "                         edgecolor='none'))\n",
    "    plt.show()\n",
    "    \n",
    "pintar_mapa(m_pesos)"
   ]
  },
  {
   "cell_type": "markdown",
   "metadata": {},
   "source": [
    "Funcion para generar el histograma del mapa de activacion"
   ]
  },
  {
   "cell_type": "code",
   "execution_count": 96,
   "metadata": {},
   "outputs": [],
   "source": [
    "def histograma3d(datos):\n",
    "    %matplotlib inline\n",
    "    \n",
    "    fig2 = plt.figure()\n",
    "    ax = Axes3D(fig2)\n",
    "    \n",
    "    # Trabajamos con los datos de la matriz data. Para ello establecemos una malla de posiciones bidimensionales\n",
    "    \n",
    "    lenx= len(datos[0])            \n",
    "    leny= len(datos[:,0])\n",
    "    xpos = np.arange(0,lenx,1)    \n",
    "    ypos = np.arange(0,leny,1)\n",
    "    xpos, ypos = np.meshgrid(xpos+1, ypos+1)\n",
    "\n",
    "    # A partir de las longitudes de las x(filas) e y(columnas), generamos una z, que hara referencia al numero de activaciones.\n",
    "    #y nos permitirá generar el histograma 3D\n",
    "    \n",
    "    xpos = xpos.flatten()   \n",
    "    ypos = ypos.flatten()\n",
    "    zpos = np.zeros(lenx*leny)\n",
    "    #Generaremos una nueva matriz de mismo tamaño que las posiciones del numero de activaciones con la funcion ones like\n",
    "    datosx = 0.5 * np.ones_like(zpos)\n",
    "    datosy = datosx.copy()\n",
    "    datosz = datos.flatten()\n",
    "\n",
    "    cs= sns.color_palette(\"GnBu_d\", lado_mapa)*leny\n",
    "    ax.bar3d(xpos,ypos,zpos, datosx, datosy, datosz, color=cs)\n",
    "\n",
    "    ax.set_xlabel('Filas')\n",
    "    ax.set_ylabel('Columnas')\n",
    "    ax.set_zlabel('Nº de activaciones')\n",
    "\n",
    "    plt.show()"
   ]
  },
  {
   "cell_type": "markdown",
   "metadata": {},
   "source": [
    "## SOM Entrenamiento"
   ]
  },
  {
   "cell_type": "markdown",
   "metadata": {},
   "source": [
    "#### Creación del bucle para entrenar la red"
   ]
  },
  {
   "cell_type": "code",
   "execution_count": 97,
   "metadata": {},
   "outputs": [
    {
     "name": "stdout",
     "output_type": "stream",
     "text": [
      "Iteración:  0\n",
      "Iteración:  100\n",
      "Iteración:  200\n",
      "Iteración:  300\n",
      "Iteración:  400\n",
      "Iteración:  500\n",
      "Iteración:  600\n",
      "Iteración:  700\n",
      "Iteración:  800\n",
      "Iteración:  900\n",
      "Iteración:  1000\n",
      "Iteración:  1100\n",
      "Iteración:  1200\n",
      "Iteración:  1300\n",
      "Iteración:  1400\n",
      "Iteración:  1500\n",
      "Iteración:  1600\n",
      "Iteración:  1700\n",
      "Iteración:  1800\n",
      "Iteración:  1900\n",
      "Iteración:  2000\n",
      "Iteración:  2100\n",
      "Iteración:  2200\n",
      "Iteración:  2300\n",
      "Iteración:  2400\n",
      "Iteración:  2500\n",
      "Iteración:  2600\n",
      "Iteración:  2700\n",
      "Iteración:  2800\n",
      "Iteración:  2900\n",
      "Iteración:  3000\n",
      "Iteración:  3100\n",
      "Iteración:  3200\n",
      "Iteración:  3300\n",
      "Iteración:  3400\n",
      "Iteración:  3500\n",
      "Iteración:  3600\n",
      "Iteración:  3700\n",
      "Iteración:  3800\n",
      "Iteración:  3900\n",
      "Iteración:  4000\n",
      "Iteración:  4100\n",
      "Iteración:  4200\n",
      "Iteración:  4300\n",
      "Iteración:  4400\n",
      "Iteración:  4500\n",
      "Iteración:  4600\n",
      "Iteración:  4700\n",
      "Iteración:  4800\n",
      "Iteración:  4900\n",
      "Iteración:  5000\n",
      "Iteración:  5100\n",
      "Iteración:  5200\n",
      "Iteración:  5300\n",
      "Iteración:  5400\n",
      "Iteración:  5500\n",
      "Iteración:  5600\n",
      "Iteración:  5700\n",
      "Iteración:  5800\n",
      "Iteración:  5900\n",
      "Iteración:  6000\n",
      "Iteración:  6100\n",
      "Iteración:  6200\n",
      "Iteración:  6300\n",
      "Iteración:  6400\n",
      "Iteración:  6500\n",
      "Iteración:  6600\n",
      "Iteración:  6700\n",
      "Iteración:  6800\n",
      "Iteración:  6900\n",
      "Iteración:  7000\n",
      "Iteración:  7100\n",
      "Iteración:  7200\n",
      "Iteración:  7300\n",
      "Iteración:  7400\n",
      "Iteración:  7500\n",
      "Iteración:  7600\n",
      "Iteración:  7700\n",
      "Iteración:  7800\n",
      "Iteración:  7900\n",
      "Iteración:  8000\n",
      "Iteración:  8100\n",
      "Iteración:  8200\n",
      "Iteración:  8300\n",
      "Iteración:  8400\n",
      "Iteración:  8500\n",
      "Iteración:  8600\n",
      "Iteración:  8700\n",
      "Iteración:  8800\n",
      "Iteración:  8900\n",
      "Iteración:  9000\n",
      "Iteración:  9100\n",
      "Iteración:  9200\n",
      "Iteración:  9300\n",
      "Iteración:  9400\n",
      "Iteración:  9500\n",
      "Iteración:  9600\n",
      "Iteración:  9700\n",
      "Iteración:  9800\n",
      "Iteración:  9900\n"
     ]
    },
    {
     "data": {
      "text/plain": [
       "array([[[0.17430732, 0.73556052, 0.17511702],\n",
       "        [0.17576329, 0.71402854, 0.18555971],\n",
       "        [0.18037518, 0.68006855, 0.20035392],\n",
       "        ...,\n",
       "        [0.40116361, 0.11861392, 0.6515851 ],\n",
       "        [0.40779254, 0.11873989, 0.68768277],\n",
       "        [0.41415162, 0.12095501, 0.72180249]],\n",
       "\n",
       "       [[0.19472206, 0.74894064, 0.17140274],\n",
       "        [0.19204177, 0.72383181, 0.18115075],\n",
       "        [0.19600997, 0.69159379, 0.19536169],\n",
       "        ...,\n",
       "        [0.40935991, 0.12895978, 0.67715966],\n",
       "        [0.41937674, 0.1296201 , 0.71531976],\n",
       "        [0.42509591, 0.13290368, 0.74586247]],\n",
       "\n",
       "       [[0.22142298, 0.75303487, 0.16926664],\n",
       "        [0.22098292, 0.73021398, 0.17918876],\n",
       "        [0.2242757 , 0.69821835, 0.1935515 ],\n",
       "        ...,\n",
       "        [0.419465  , 0.14673028, 0.70913104],\n",
       "        [0.43007816, 0.14637588, 0.74670339],\n",
       "        [0.43657249, 0.14784962, 0.772364  ]],\n",
       "\n",
       "       ...,\n",
       "\n",
       "       [[0.81885527, 0.4046189 , 0.23999714],\n",
       "        [0.82274243, 0.39327178, 0.26549089],\n",
       "        [0.82262057, 0.38689779, 0.30367889],\n",
       "        ...,\n",
       "        [0.51846859, 0.77329025, 0.8366087 ],\n",
       "        [0.46970547, 0.78185133, 0.84605839],\n",
       "        [0.42711236, 0.7908498 , 0.8570485 ]],\n",
       "\n",
       "       [[0.83546961, 0.37347729, 0.2419519 ],\n",
       "        [0.83620406, 0.36732094, 0.26850792],\n",
       "        [0.8417698 , 0.35897799, 0.30677188],\n",
       "        ...,\n",
       "        [0.55420007, 0.79377116, 0.83376661],\n",
       "        [0.50422943, 0.80508575, 0.84363423],\n",
       "        [0.45890254, 0.8137186 , 0.8508611 ]],\n",
       "\n",
       "       [[0.84355472, 0.35648146, 0.25205591],\n",
       "        [0.84749014, 0.3495173 , 0.27803674],\n",
       "        [0.85234069, 0.34356508, 0.31963673],\n",
       "        ...,\n",
       "        [0.59322035, 0.80609371, 0.83080474],\n",
       "        [0.54233073, 0.82050988, 0.83776517],\n",
       "        [0.4975929 , 0.81931715, 0.84542922]]])"
      ]
     },
     "execution_count": 97,
     "metadata": {},
     "output_type": "execute_result"
    }
   ],
   "source": [
    "# Entrena la red con el dataset de entrenamiento\n",
    "for i in range(periodo):\n",
    "    if i % 100 == 0: #cada 100 iteraciones imprimimos el número correspondiente\n",
    "        print('Iteración: ', i)\n",
    "    #patrón de entrada escogido al azar y convertido al formato de m_pesos\n",
    "    patron_entrada = datosN[np.random.randint(datos.shape[0])] \n",
    "    #buscamos la BMU\n",
    "    bmu, bmu_idx = calcular_bmu(patron_entrada, m_pesos, num_entradas)\n",
    "    #calculamos eta y el vecindario correspondientes a la iteración i\n",
    "    eta = variacion_learning_rate(learning_rate, i, periodo)\n",
    "    v = variacion_vecindario(vecindario_inicial, i, periodo)\n",
    "\n",
    "    #actualizamos el vector de pesos y así nos acercamos al patrón\n",
    "    for x in range(lado_mapa):\n",
    "        for y in range(lado_mapa):\n",
    "            w = m_pesos[x, y] #actualizamos el vector de pesos\n",
    "            #calculamos la distancia euclídea para cada neurona y acercarnos a la correspondiente\n",
    "            distEuclidea = np.sqrt(np.sum((np.array([x,y]) - bmu_idx)**2))\n",
    "            if distEuclidea <= vecindario_inicial: #si la distancia euclidea es menor o igual que el vecindario\n",
    "                #calculamos la amortigüación \n",
    "                amortiguacion = decay(distEuclidea, v)\n",
    "                #actualizamos el vector de pesos de la neurona\n",
    "                m_pesos[x, y] = w + eta * amortiguacion * (patron_entrada - w)\n",
    "\n",
    "m_pesos"
   ]
  },
  {
   "cell_type": "markdown",
   "metadata": {},
   "source": [
    "Pintamos la matriz de pesos con la función definida anteriormente 'pintar_mapa()'"
   ]
  },
  {
   "cell_type": "code",
   "execution_count": 98,
   "metadata": {},
   "outputs": [
    {
     "data": {
      "image/png": "[encoded data removed]",
      "text/plain": [
       "<Figure size 432x288 with 1 Axes>"
      ]
     },
     "metadata": {
      "needs_background": "light"
     },
     "output_type": "display_data"
    }
   ],
   "source": [
    "pintar_mapa(m_pesos)"
   ]
  },
  {
   "cell_type": "markdown",
   "metadata": {},
   "source": [
    "## SOM Clasificación"
   ]
  },
  {
   "cell_type": "markdown",
   "metadata": {},
   "source": [
    "### Clasifica los patrones de entrenamiento con la matriz de pesos recién entrenada"
   ]
  },
  {
   "cell_type": "markdown",
   "metadata": {
    "collapsed": true
   },
   "source": [
    "#### Definimos e inicializamos las tres matrices\n",
    "##### Mapa de Clasificación: mClasificacion \n",
    "Es una matriz con las mismas dimensiones que m_pesos y guarda en cada neurona el último patron clasificado\n",
    "##### Mapa de Activación: mActivacion\n",
    "Es una matriz bidimensional que guarda el número de patrones reconocido por  cada neurona\n",
    "##### Mapa de Distancias: mDistancias\n",
    "Es una matriz bidimensional que guarda las neuronas con activación>0"
   ]
  },
  {
   "cell_type": "code",
   "execution_count": 99,
   "metadata": {},
   "outputs": [],
   "source": [
    "mClasificacion = np.zeros((lado_mapa, lado_mapa, valores_color))                          \n",
    "mActivacion = np.zeros((lado_mapa, lado_mapa))\n",
    "mDistancias = np.zeros((lado_mapa, lado_mapa))\n",
    "distancia_media = 0\n",
    "distanciaEuclidea = 0\n",
    "contAct = 0\n",
    "homogeneidad = 0"
   ]
  },
  {
   "cell_type": "markdown",
   "metadata": {},
   "source": [
    "#### Recorremos todo el dataset de entrenamiento"
   ]
  },
  {
   "cell_type": "markdown",
   "metadata": {},
   "source": [
    "##### Imprimimos las coordenadas x e y de la BMU para cada patrón de prueba"
   ]
  },
  {
   "cell_type": "code",
   "execution_count": 104,
   "metadata": {},
   "outputs": [
    {
     "name": "stdout",
     "output_type": "stream",
     "text": [
      "Coordenadas BMU: [0.12992126 0.11023622 0.37795276]\n",
      "X =  0\n",
      "Y =  10\n",
      "Coordenadas BMU: [0.28740157 0.09448819 0.48031496]\n",
      "X =  0\n",
      "Y =  13\n",
      "Coordenadas BMU: [0.29133858 0.13779528 0.60629921]\n",
      "X =  2\n",
      "Y =  14\n",
      "Coordenadas BMU: [0.88976378 0.57480315 0.25590551]\n",
      "X =  15\n",
      "Y =  0\n",
      "Coordenadas BMU: [0.50393701 0.28740157 0.77559055]\n",
      "X =  7\n",
      "Y =  15\n",
      "Coordenadas BMU: [0.75984252 0.85433071 0.31889764]\n",
      "X =  11\n",
      "Y =  0\n",
      "Coordenadas BMU: [0.61417323 0.68110236 0.82677165]\n",
      "X =  16\n",
      "Y =  15\n",
      "Coordenadas BMU: [0.95669291 0.05511811 0.7007874 ]\n",
      "X =  19\n",
      "Y =  7\n",
      "Coordenadas BMU: [0.42913386 0.97244094 0.86614173]\n",
      "X =  18\n",
      "Y =  19\n",
      "Coordenadas BMU: [0.32677165 0.48031496 0.95275591]\n",
      "X =  11\n",
      "Y =  19\n",
      "Coordenadas BMU: [0.41732283 0.52755906 0.31102362]\n",
      "X =  7\n",
      "Y =  6\n",
      "Coordenadas BMU: [0.6023622  0.25984252 0.92913386]\n",
      "X =  6\n",
      "Y =  19\n",
      "Coordenadas BMU: [0.96456693 0.31496063 0.12598425]\n",
      "X =  19\n",
      "Y =  0\n",
      "Coordenadas BMU: [0.90944882 0.96062992 0.92519685]\n",
      "X =  19\n",
      "Y =  15\n",
      "Coordenadas BMU: [0.37401575 0.05511811 0.56692913]\n",
      "X =  0\n",
      "Y =  15\n",
      "Coordenadas BMU: [0.3976378  0.7007874  0.74015748]\n",
      "X =  15\n",
      "Y =  18\n",
      "Coordenadas BMU: [0.4015748  0.14173228 0.76771654]\n",
      "X =  1\n",
      "Y =  19\n",
      "Coordenadas BMU: [0.71653543 0.51968504 0.26377953]\n",
      "X =  13\n",
      "Y =  1\n",
      "Coordenadas BMU: [0.36614173 0.44094488 0.64173228]\n",
      "X =  8\n",
      "Y =  11\n",
      "Coordenadas BMU: [0.         0.76771654 0.02362205]\n",
      "X =  0\n",
      "Y =  0\n",
      "Coordenadas BMU: [0.02362205 0.67322835 0.29133858]\n",
      "X =  0\n",
      "Y =  2\n",
      "Coordenadas BMU: [0.77952756 0.50393701 0.5984252 ]\n",
      "X =  15\n",
      "Y =  8\n",
      "Coordenadas BMU: [0.85826772 0.51181102 0.18503937]\n",
      "X =  15\n",
      "Y =  0\n",
      "Coordenadas BMU: [0.38976378 0.61811024 0.03149606]\n",
      "X =  6\n",
      "Y =  0\n",
      "Coordenadas BMU: [0.40944882 0.05905512 0.55511811]\n",
      "X =  0\n",
      "Y =  15\n",
      "Coordenadas BMU: [0.32283465 0.66535433 0.27165354]\n",
      "X =  5\n",
      "Y =  3\n",
      "Coordenadas BMU: [0.54724409 0.04724409 0.57874016]\n",
      "X =  0\n",
      "Y =  16\n",
      "Coordenadas BMU: [0.19291339 0.83070866 0.70472441]\n",
      "X =  16\n",
      "Y =  19\n",
      "Coordenadas BMU: [0.00393701 0.32283465 0.46456693]\n",
      "X =  0\n",
      "Y =  8\n",
      "Coordenadas BMU: [0.33070866 0.31102362 0.92913386]\n",
      "X =  9\n",
      "Y =  19\n",
      "Coordenadas BMU: [0.64566929 0.54724409 0.37401575]\n",
      "X =  12\n",
      "Y =  4\n",
      "Coordenadas BMU: [0.54724409 0.18897638 1.        ]\n",
      "X =  6\n",
      "Y =  19\n",
      "Coordenadas BMU: [0.18897638 0.66535433 0.11023622]\n",
      "X =  1\n",
      "Y =  2\n",
      "Coordenadas BMU: [0.62598425 0.2519685  0.87401575]\n",
      "X =  5\n",
      "Y =  19\n",
      "Coordenadas BMU: [0.16141732 0.69685039 0.17322835]\n",
      "X =  0\n",
      "Y =  1\n",
      "Coordenadas BMU: [0.45275591 0.24409449 0.95669291]\n",
      "X =  7\n",
      "Y =  19\n",
      "Coordenadas BMU: [0.8503937  0.37795276 0.01574803]\n",
      "X =  18\n",
      "Y =  0\n",
      "Coordenadas BMU: [0.38582677 0.52755906 0.12992126]\n",
      "X =  5\n",
      "Y =  4\n",
      "Coordenadas BMU: [0.97244094 0.35826772 0.86220472]\n",
      "X =  19\n",
      "Y =  9\n",
      "Coordenadas BMU: [0.01968504 0.69685039 0.95275591]\n",
      "X =  14\n",
      "Y =  19\n",
      "Coordenadas BMU: [0.09055118 0.86220472 1.        ]\n",
      "X =  16\n",
      "Y =  19\n",
      "Coordenadas BMU: [0.62992126 0.38188976 0.96456693]\n",
      "X =  10\n",
      "Y =  16\n",
      "Coordenadas BMU: [0.9488189  0.88188976 0.82283465]\n",
      "X =  19\n",
      "Y =  14\n",
      "Coordenadas BMU: [0.89370079 0.98818898 0.30708661]\n",
      "X =  11\n",
      "Y =  0\n",
      "Coordenadas BMU: [0.57874016 0.72047244 0.63779528]\n",
      "X =  16\n",
      "Y =  15\n",
      "Coordenadas BMU: [0.87401575 0.57874016 0.98818898]\n",
      "X =  19\n",
      "Y =  12\n",
      "Coordenadas BMU: [0.7007874  0.45275591 0.23228346]\n",
      "X =  14\n",
      "Y =  0\n",
      "Coordenadas BMU: [0.2007874  0.14566929 0.2519685 ]\n",
      "X =  0\n",
      "Y =  9\n",
      "Coordenadas BMU: [0.42125984 0.63779528 0.03149606]\n",
      "X =  6\n",
      "Y =  0\n",
      "Coordenadas BMU: [0.88976378 0.6496063  0.74015748]\n",
      "X =  19\n",
      "Y =  12\n",
      "Coordenadas BMU: [0.01574803 0.16929134 0.04724409]\n",
      "X =  0\n",
      "Y =  8\n",
      "Coordenadas BMU: [0.18897638 0.38582677 0.98818898]\n",
      "X =  10\n",
      "Y =  19\n",
      "Coordenadas BMU: [0.77952756 0.92519685 0.51968504]\n",
      "X =  19\n",
      "Y =  15\n",
      "Coordenadas BMU: [0.30708661 0.65748031 0.08661417]\n",
      "X =  4\n",
      "Y =  2\n",
      "Coordenadas BMU: [1.         0.12992126 0.37007874]\n",
      "X =  19\n",
      "Y =  3\n",
      "Coordenadas BMU: [0.28346457 0.9488189  0.03937008]\n",
      "X =  3\n",
      "Y =  0\n",
      "Coordenadas BMU: [0.72047244 0.05905512 0.97244094]\n",
      "X =  5\n",
      "Y =  19\n",
      "Coordenadas BMU: [0.66535433 0.18897638 0.28346457]\n",
      "X =  19\n",
      "Y =  1\n",
      "Coordenadas BMU: [0.78346457 0.21259843 0.        ]\n",
      "X =  18\n",
      "Y =  0\n",
      "Coordenadas BMU: [0.11417323 0.93307087 0.01574803]\n",
      "X =  1\n",
      "Y =  0\n",
      "Coordenadas BMU: [0.27165354 0.32677165 0.42913386]\n",
      "X =  4\n",
      "Y =  9\n",
      "Coordenadas BMU: [0.97244094 0.40944882 0.27559055]\n",
      "X =  19\n",
      "Y =  1\n",
      "Coordenadas BMU: [0.37007874 0.05511811 0.22834646]\n",
      "X =  0\n",
      "Y =  11\n",
      "Coordenadas BMU: [0.42913386 0.37795276 0.97244094]\n",
      "X =  10\n",
      "Y =  19\n",
      "Coordenadas BMU: [0.42125984 0.14566929 0.40944882]\n",
      "X =  0\n",
      "Y =  13\n",
      "Coordenadas BMU: [0.28740157 0.62992126 0.34251969]\n",
      "X =  5\n",
      "Y =  5\n",
      "Coordenadas BMU: [0.53937008 0.27952756 0.67716535]\n",
      "X =  8\n",
      "Y =  13\n",
      "Coordenadas BMU: [0.45275591 0.12204724 0.77165354]\n",
      "X =  2\n",
      "Y =  19\n",
      "Coordenadas BMU: [0.48425197 0.07874016 0.75590551]\n",
      "X =  1\n",
      "Y =  19\n",
      "Coordenadas BMU: [1.         0.19291339 0.70472441]\n",
      "X =  19\n",
      "Y =  7\n",
      "Coordenadas BMU: [0.02755906 0.71259843 0.16141732]\n",
      "X =  0\n",
      "Y =  0\n",
      "Coordenadas BMU: [0.50393701 0.58661417 0.62598425]\n",
      "X =  10\n",
      "Y =  9\n",
      "Coordenadas BMU: [0.4488189  0.75590551 0.33464567]\n",
      "X =  8\n",
      "Y =  2\n",
      "Coordenadas BMU: [1.         0.4015748  0.79133858]\n",
      "X =  19\n",
      "Y =  9\n",
      "Coordenadas BMU: [0.73622047 0.48031496 0.48425197]\n",
      "X =  14\n",
      "Y =  6\n",
      "Coordenadas BMU: [0.0984252  0.42913386 0.94094488]\n",
      "X =  11\n",
      "Y =  19\n",
      "Coordenadas BMU: [0.42519685 0.46062992 0.9015748 ]\n",
      "X =  11\n",
      "Y =  17\n",
      "Coordenadas BMU: [0.25590551 0.03149606 0.75590551]\n",
      "X =  0\n",
      "Y =  19\n",
      "Coordenadas BMU: [0.35826772 0.32283465 0.26377953]\n",
      "X =  3\n",
      "Y =  8\n",
      "Coordenadas BMU: [0.7480315  0.33070866 0.42519685]\n",
      "X =  17\n",
      "Y =  4\n",
      "Coordenadas BMU: [0.74015748 0.96850394 0.90944882]\n",
      "X =  19\n",
      "Y =  16\n",
      "Coordenadas BMU: [0.52362205 0.05905512 0.3503937 ]\n",
      "X =  0\n",
      "Y =  13\n",
      "Coordenadas BMU: [0.95275591 0.26377953 0.7992126 ]\n",
      "X =  19\n",
      "Y =  8\n",
      "Coordenadas BMU: [0.01968504 0.29133858 0.72834646]\n",
      "X =  5\n",
      "Y =  13\n",
      "Coordenadas BMU: [0.50787402 0.98425197 0.16141732]\n",
      "X =  7\n",
      "Y =  0\n",
      "Coordenadas BMU: [0.55905512 0.46062992 0.64566929]\n",
      "X =  11\n",
      "Y =  10\n",
      "Coordenadas BMU: [0.08661417 0.85826772 0.31889764]\n",
      "X =  0\n",
      "Y =  0\n",
      "Coordenadas BMU: [0.35826772 0.60629921 0.54330709]\n",
      "X =  8\n",
      "Y =  8\n",
      "Coordenadas BMU: [0.54724409 0.42913386 0.12598425]\n",
      "X =  13\n",
      "Y =  0\n",
      "Coordenadas BMU: [0.58267717 0.3503937  0.66929134]\n",
      "X =  11\n",
      "Y =  11\n",
      "Coordenadas BMU: [0.80314961 0.31496063 0.92125984]\n",
      "X =  19\n",
      "Y =  10\n",
      "Coordenadas BMU: [0.11023622 0.68110236 0.44488189]\n",
      "X =  0\n",
      "Y =  3\n",
      "Coordenadas BMU: [0.39370079 0.53937008 0.35433071]\n",
      "X =  7\n",
      "Y =  6\n",
      "Coordenadas BMU: [0.27165354 1.         0.25984252]\n",
      "X =  3\n",
      "Y =  0\n",
      "Coordenadas BMU: [0.51968504 0.20866142 0.8976378 ]\n",
      "X =  5\n",
      "Y =  19\n",
      "Coordenadas BMU: [0.2519685  0.9488189  0.92125984]\n",
      "X =  17\n",
      "Y =  19\n",
      "Coordenadas BMU: [0.27559055 0.80314961 0.10629921]\n",
      "X =  3\n",
      "Y =  0\n",
      "Coordenadas BMU: [0.51574803 0.22440945 0.71653543]\n",
      "X =  4\n",
      "Y =  16\n",
      "Coordenadas BMU: [0.17716535 0.13779528 0.99606299]\n",
      "X =  8\n",
      "Y =  19\n",
      "Coordenadas BMU: [0.11811024 0.33858268 0.24409449]\n",
      "X =  0\n",
      "Y =  7\n"
     ]
    }
   ],
   "source": [
    "for i in range (0, num_colores):\n",
    "    bmu,bmu_idx= calcular_bmu(datosN[i], m_pesos, num_entradas)\n",
    "    #bmu2 = calcular_segunda_bmu(datosN[i], m_pesos, num_entradas, bmu[1])\n",
    "    #if distancia_euclidea(bmu[1], bmu2[1]) > 2:\n",
    "        #homogeneidad += 1\n",
    "    #actualizamos el mapa de clasificación, añadiendo el patrón en la neurona que lo ha reconocido\n",
    "    mClasificacion[bmu_idx[0], bmu_idx[1]] = datosN[i]\n",
    "    distanciaEuclidea = np.sqrt(np.sum((bmu - datosN[i])**2)) #calculamos la distancia euclidea\n",
    "    mDistancias[bmu_idx[0], bmu_idx[1]] =+ distanciaEuclidea\n",
    "    #actualizamos el mapa de activación, +1 en las activaciones\n",
    "    mActivacion[bmu_idx[0], bmu_idx[1]] =+ 1\n",
    "    print('Coordenadas BMU:', datosN[i])\n",
    "    print('X = ', bmu_idx[0])\n",
    "    print('Y = ', bmu_idx[1])  \n",
    "\n",
    "# Sacamos la distancia media de cada neurona a partir del número de activaciones.\n",
    "for i in range(0,lado_mapa):\n",
    "    for j in range(0,lado_mapa): \n",
    "        if mActivacion[i-1][j-1] != 0:\n",
    "            mDistancias[i-1][j-1]=mDistancias[i-1][j-1] / mActivacion[i-1][j-1]\n",
    "            \n",
    "            # Calculamos la distancia media total.\n",
    "            distancia_media += mDistancias[i-1][j-1]\n",
    "            contAct +=1\n",
    "\n",
    "# Contabilizamos el número de clases.\n",
    "distancia_media=distancia_media/contAct"
   ]
  },
  {
   "cell_type": "markdown",
   "metadata": {},
   "source": [
    "##### Calculamos los mapas de clasificación, activación, y distancias"
   ]
  },
  {
   "cell_type": "code",
   "execution_count": 105,
   "metadata": {},
   "outputs": [
    {
     "name": "stdout",
     "output_type": "stream",
     "text": [
      "Mapa de Clasificación\n"
     ]
    },
    {
     "data": {
      "image/png": "[encoded data removed]",
      "text/plain": [
       "<Figure size 432x288 with 1 Axes>"
      ]
     },
     "metadata": {
      "needs_background": "light"
     },
     "output_type": "display_data"
    },
    {
     "name": "stdout",
     "output_type": "stream",
     "text": [
      "\n",
      "Mapa de Activación\n"
     ]
    },
    {
     "data": {
      "image/png": "[encoded data removed]",
      "text/plain": [
       "<Figure size 432x288 with 1 Axes>"
      ]
     },
     "metadata": {
      "needs_background": "light"
     },
     "output_type": "display_data"
    },
    {
     "name": "stdout",
     "output_type": "stream",
     "text": [
      "[[1. 1. 1. 1. 0. 0. 0. 1. 1. 1. 1. 1. 0. 1. 0. 1. 1. 0. 0. 1.]\n",
      " [1. 0. 1. 0. 0. 0. 0. 0. 0. 0. 0. 0. 0. 0. 0. 0. 0. 0. 0. 1.]\n",
      " [0. 0. 0. 0. 0. 0. 0. 0. 0. 0. 0. 0. 0. 0. 1. 0. 0. 0. 0. 1.]\n",
      " [1. 0. 0. 0. 0. 0. 0. 0. 1. 0. 0. 0. 0. 0. 0. 0. 0. 0. 0. 0.]\n",
      " [0. 0. 1. 0. 0. 0. 0. 0. 0. 1. 0. 0. 0. 0. 0. 0. 1. 0. 0. 0.]\n",
      " [0. 0. 0. 1. 1. 1. 0. 0. 0. 0. 0. 0. 0. 1. 0. 0. 0. 0. 0. 1.]\n",
      " [1. 0. 0. 0. 0. 0. 0. 0. 0. 0. 0. 0. 0. 0. 0. 0. 0. 0. 0. 1.]\n",
      " [1. 0. 0. 0. 0. 0. 1. 0. 0. 0. 0. 0. 0. 0. 0. 1. 0. 0. 0. 1.]\n",
      " [0. 0. 1. 0. 0. 0. 0. 0. 1. 0. 0. 1. 0. 1. 0. 0. 0. 0. 0. 1.]\n",
      " [0. 0. 0. 0. 0. 0. 0. 0. 0. 0. 0. 0. 0. 0. 0. 0. 0. 0. 0. 1.]\n",
      " [0. 0. 0. 0. 0. 0. 0. 0. 0. 1. 0. 0. 0. 0. 0. 0. 1. 0. 0. 1.]\n",
      " [1. 0. 0. 0. 0. 0. 0. 0. 0. 0. 1. 1. 0. 0. 0. 0. 0. 1. 0. 1.]\n",
      " [0. 0. 0. 0. 1. 0. 0. 0. 0. 0. 0. 0. 0. 0. 0. 0. 0. 0. 0. 0.]\n",
      " [1. 1. 0. 0. 0. 0. 0. 0. 0. 0. 0. 0. 0. 0. 0. 0. 0. 0. 0. 0.]\n",
      " [1. 0. 0. 0. 0. 0. 1. 0. 0. 0. 0. 0. 0. 0. 0. 0. 0. 0. 0. 1.]\n",
      " [1. 0. 0. 0. 0. 0. 0. 0. 1. 0. 0. 0. 0. 0. 0. 0. 0. 0. 1. 0.]\n",
      " [0. 0. 0. 0. 0. 0. 0. 0. 0. 0. 0. 0. 0. 0. 0. 1. 0. 0. 0. 1.]\n",
      " [0. 0. 0. 0. 1. 0. 0. 0. 0. 0. 0. 0. 0. 0. 0. 0. 0. 0. 0. 1.]\n",
      " [1. 0. 0. 0. 0. 0. 0. 0. 0. 0. 0. 0. 0. 0. 0. 0. 0. 0. 0. 1.]\n",
      " [1. 1. 0. 1. 0. 0. 0. 1. 1. 1. 1. 0. 1. 0. 1. 1. 1. 0. 0. 0.]]\n",
      "\n",
      "Mapa de Distancias\n",
      "[[0.20837469 0.02555304 0.18137404 0.24491623 0.         0.\n",
      "  0.         0.10490173 0.35732275 0.14084197 0.16390437 0.23007778\n",
      "  0.         0.23888661 0.         0.07212379 0.17463994 0.\n",
      "  0.         0.18495338]\n",
      " [0.25420552 0.         0.08935506 0.         0.         0.\n",
      "  0.         0.         0.         0.         0.         0.\n",
      "  0.         0.         0.         0.         0.         0.\n",
      "  0.         0.0808331 ]\n",
      " [0.         0.         0.         0.         0.         0.\n",
      "  0.         0.         0.         0.         0.         0.\n",
      "  0.         0.         0.08623723 0.         0.         0.\n",
      "  0.         0.03046589]\n",
      " [0.08352084 0.         0.         0.         0.         0.\n",
      "  0.         0.         0.1249523  0.         0.         0.\n",
      "  0.         0.         0.         0.         0.         0.\n",
      "  0.         0.        ]\n",
      " [0.         0.         0.11721336 0.         0.         0.\n",
      "  0.         0.         0.         0.05563126 0.         0.\n",
      "  0.         0.         0.         0.         0.1014432  0.\n",
      "  0.         0.        ]\n",
      " [0.         0.         0.         0.04566864 0.16187562 0.09203811\n",
      "  0.         0.         0.         0.         0.         0.\n",
      "  0.         0.36545257 0.         0.         0.         0.\n",
      "  0.         0.06655669]\n",
      " [0.18194495 0.         0.         0.         0.         0.\n",
      "  0.         0.         0.         0.         0.         0.\n",
      "  0.         0.         0.         0.         0.         0.\n",
      "  0.         0.15436029]\n",
      " [0.27564203 0.         0.         0.         0.         0.\n",
      "  0.0141618  0.         0.         0.         0.         0.\n",
      "  0.         0.         0.         0.08118406 0.         0.\n",
      "  0.         0.06338418]\n",
      " [0.         0.         0.12071765 0.         0.         0.\n",
      "  0.         0.         0.16499275 0.         0.         0.08487529\n",
      "  0.         0.13148036 0.         0.         0.         0.\n",
      "  0.         0.30281392]\n",
      " [0.         0.         0.         0.         0.         0.\n",
      "  0.         0.         0.         0.         0.         0.\n",
      "  0.         0.         0.         0.         0.         0.\n",
      "  0.         0.07372705]\n",
      " [0.         0.         0.         0.         0.         0.\n",
      "  0.         0.         0.         0.1306957  0.         0.\n",
      "  0.         0.         0.         0.         0.22357982 0.\n",
      "  0.         0.07523561]\n",
      " [0.43994131 0.         0.         0.         0.         0.\n",
      "  0.         0.         0.         0.         0.01279367 0.11046276\n",
      "  0.         0.         0.         0.         0.         0.02407028\n",
      "  0.         0.2765    ]\n",
      " [0.         0.         0.         0.         0.02235199 0.\n",
      "  0.         0.         0.         0.         0.         0.\n",
      "  0.         0.         0.         0.         0.         0.\n",
      "  0.         0.        ]\n",
      " [0.23924125 0.02339783 0.         0.         0.         0.\n",
      "  0.         0.         0.         0.         0.         0.\n",
      "  0.         0.         0.         0.         0.         0.\n",
      "  0.         0.        ]\n",
      " [0.07539251 0.         0.         0.         0.         0.\n",
      "  0.02648579 0.         0.         0.         0.         0.\n",
      "  0.         0.         0.         0.         0.         0.\n",
      "  0.         0.36233727]\n",
      " [0.10715723 0.         0.         0.         0.         0.\n",
      "  0.         0.         0.06885075 0.         0.         0.\n",
      "  0.         0.         0.         0.         0.         0.\n",
      "  0.12098768 0.        ]\n",
      " [0.         0.         0.         0.         0.         0.\n",
      "  0.         0.         0.         0.         0.         0.\n",
      "  0.         0.         0.         0.18172204 0.         0.\n",
      "  0.         0.35709002]\n",
      " [0.         0.         0.         0.         0.08800866 0.\n",
      "  0.         0.         0.         0.         0.         0.\n",
      "  0.         0.         0.         0.         0.         0.\n",
      "  0.         0.24444366]\n",
      " [0.29517326 0.         0.         0.         0.         0.\n",
      "  0.         0.         0.         0.         0.         0.\n",
      "  0.         0.         0.         0.         0.         0.\n",
      "  0.         0.16221114]\n",
      " [0.17961625 0.13860186 0.         0.25152063 0.         0.\n",
      "  0.         0.21180397 0.17456206 0.14006134 0.2232254  0.\n",
      "  0.11855908 0.         0.27251419 0.35220417 0.22219422 0.\n",
      "  0.         0.        ]]\n"
     ]
    }
   ],
   "source": [
    "print('Mapa de Clasificación')\n",
    "pintar_mapa(mClasificacion)\n",
    "print('\\nMapa de Activación')\n",
    "histograma3d(mActivacion)\n",
    "print(mActivacion)\n",
    "print('\\nMapa de Distancias')\n",
    "print(mDistancias)"
   ]
  },
  {
   "cell_type": "markdown",
   "metadata": {},
   "source": [
    "##### Calculamos el número de clases"
   ]
  },
  {
   "cell_type": "code",
   "execution_count": 106,
   "metadata": {},
   "outputs": [
    {
     "name": "stdout",
     "output_type": "stream",
     "text": [
      "Número de clases:  74\n"
     ]
    }
   ],
   "source": [
    "num_clases = np.count_nonzero(mActivacion)\n",
    "print('Número de clases: ', num_clases)"
   ]
  },
  {
   "cell_type": "markdown",
   "metadata": {},
   "source": [
    "##### Calculamos el Error de Cuantificación y el Error Topológico del mapa"
   ]
  },
  {
   "cell_type": "code",
   "execution_count": 107,
   "metadata": {
    "scrolled": true
   },
   "outputs": [
    {
     "name": "stdout",
     "output_type": "stream",
     "text": [
      "Error de Cuantificación:  0.15791347896053146\n"
     ]
    }
   ],
   "source": [
    "#error de cuantificación\n",
    "eCuantificacion = (np.sum(mDistancias))/(np.sum(mActivacion))\n",
    "print('Error de Cuantificación: ', eCuantificacion)\n"
   ]
  },
  {
   "cell_type": "code",
   "execution_count": 108,
   "metadata": {},
   "outputs": [
    {
     "name": "stdout",
     "output_type": "stream",
     "text": [
      "Error de Cuantificación:  0.0\n"
     ]
    }
   ],
   "source": [
    "def error_topologico(N, homogeneidad):\n",
    "    return 1/N*homogeneidad\n",
    "print('Error Topológico: ', error_topologico(contAct, homogeneidad))\n",
    "#Sigue dando 0, porque en la clasificacion me da un error de tuples, a ver si podeis sacarlos vosotros, he comentado el codigo\n",
    "#que deberia de funcionar"
   ]
  },
  {
   "cell_type": "markdown",
   "metadata": {},
   "source": [
    "## SOM Prueba"
   ]
  },
  {
   "cell_type": "code",
   "execution_count": 111,
   "metadata": {},
   "outputs": [
    {
     "name": "stdout",
     "output_type": "stream",
     "text": [
      "Color clasificado en la coordenada: (19,14)\n",
      "Colores clasificados: \n"
     ]
    },
    {
     "data": {
      "image/png": "[encoded data removed]",
      "text/plain": [
       "<Figure size 432x288 with 1 Axes>"
      ]
     },
     "metadata": {
      "needs_background": "light"
     },
     "output_type": "display_data"
    },
    {
     "name": "stdout",
     "output_type": "stream",
     "text": [
      "Color clasificado en la coordenada: (19,0)\n",
      "Colores clasificados: \n"
     ]
    },
    {
     "data": {
      "image/png": "[encoded data removed]",
      "text/plain": [
       "<Figure size 432x288 with 1 Axes>"
      ]
     },
     "metadata": {
      "needs_background": "light"
     },
     "output_type": "display_data"
    },
    {
     "name": "stdout",
     "output_type": "stream",
     "text": [
      "Color clasificado en la coordenada: (1,0)\n",
      "Colores clasificados: \n"
     ]
    },
    {
     "data": {
      "image/png": "[encoded data removed]",
      "text/plain": [
       "<Figure size 432x288 with 1 Axes>"
      ]
     },
     "metadata": {
      "needs_background": "light"
     },
     "output_type": "display_data"
    },
    {
     "name": "stdout",
     "output_type": "stream",
     "text": [
      "Color clasificado en la coordenada: (1,19)\n",
      "Colores clasificados: \n"
     ]
    },
    {
     "data": {
      "image/png": "[encoded data removed]",
      "text/plain": [
       "<Figure size 432x288 with 1 Axes>"
      ]
     },
     "metadata": {
      "needs_background": "light"
     },
     "output_type": "display_data"
    },
    {
     "name": "stdout",
     "output_type": "stream",
     "text": [
      "Color clasificado en la coordenada: (11,0)\n",
      "Colores clasificados: \n"
     ]
    },
    {
     "data": {
      "image/png": "[encoded data removed]",
      "text/plain": [
       "<Figure size 432x288 with 1 Axes>"
      ]
     },
     "metadata": {
      "needs_background": "light"
     },
     "output_type": "display_data"
    },
    {
     "name": "stdout",
     "output_type": "stream",
     "text": [
      "Color clasificado en la coordenada: (16,19)\n",
      "Colores clasificados: \n"
     ]
    },
    {
     "data": {
      "image/png": "[encoded data removed]",
      "text/plain": [
       "<Figure size 432x288 with 1 Axes>"
      ]
     },
     "metadata": {
      "needs_background": "light"
     },
     "output_type": "display_data"
    }
   ],
   "source": [
    "# Clasifica nuevos patrones\n",
    "patrones = np.array([[255, 255, 255], [255, 0, 0], [0, 255, 0], [0, 0, 255], [255, 255, 0], [0, 255, 255]])\n",
    "mapa_k = np.copy(m_pesos) *0\n",
    "\n",
    "# Inicializamos la matriz de pesos para la clasificacion de los nuevos patrones.\n",
    "m_clasificacion = np.copy(m_pesos) *0\n",
    "\n",
    "for i in range(0, patrones.shape[0]):\n",
    "    \n",
    "    # Guardamos los colores en la matriz de patrones.\n",
    "    color=patrones[i]\n",
    "    #Calculamos la BMU\n",
    "    bmu, bmu_idx= calcular_bmu((color/valor_max),m_pesos, num_entradas)\n",
    "    \n",
    "    # Una vez obtenida la BMU correspondiente, clasificamos los colores.\n",
    "    mapa_k[bmu_idx[0]][bmu_idx[1]] = bmu[0]\n",
    "    m_clasificacion[bmu_idx[0]][bmu_idx[1]] = (color/valor_max)\n",
    "    print(\"Color clasificado en la coordenada: (\"+str(bmu_idx[0])+\",\"+str(bmu_idx[1])+\")\")\n",
    "    \n",
    "    # Imprimimos el mapa de colores primarios ya clasificados.\n",
    "    print(\"Colores clasificados: \")\n",
    "    pintar_mapa(m_clasificacion)"
   ]
  },
  {
   "cell_type": "code",
   "execution_count": null,
   "metadata": {},
   "outputs": [],
   "source": []
  }
 ],
 "metadata": {
  "anaconda-cloud": {},
  "kernelspec": {
   "display_name": "Python 3",
   "language": "python",
   "name": "python3"
  },
  "language_info": {
   "codemirror_mode": {
    "name": "ipython",
    "version": 3
   },
   "file_extension": ".py",
   "mimetype": "text/x-python",
   "name": "python",
   "nbconvert_exporter": "python",
   "pygments_lexer": "ipython3",
   "version": "3.8.5"
  }
 },
 "nbformat": 4,
 "nbformat_minor": 2
}
