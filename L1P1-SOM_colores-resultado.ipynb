{
 "cells": [
  {
   "cell_type": "markdown",
   "metadata": {},
   "source": [
    "# Práctica 1 - Self-Organising Maps - COLORES\n",
    "## Preparación de entorno\n",
    "#### Importar librerías de código"
   ]
  },
  {
   "cell_type": "markdown",
   "metadata": {},
   "source": [
    "Álvaro Chavarri, Daniel Ojeda, Carlos Vega y Lucía Gálvez"
   ]
  },
  {
   "cell_type": "code",
   "execution_count": 1,
   "metadata": {
    "scrolled": true
   },
   "outputs": [],
   "source": [
    "# from __future__ import division\n",
    "\n",
    "import numpy as np\n",
    "from matplotlib import pyplot as plt\n",
    "from matplotlib import patches as patches\n",
    "\n",
    "%matplotlib inline"
   ]
  },
  {
   "cell_type": "markdown",
   "metadata": {},
   "source": [
    "#### Dataset que se va a utilizar para el entrenamiento"
   ]
  },
  {
   "cell_type": "code",
   "execution_count": 2,
   "metadata": {},
   "outputs": [],
   "source": [
    "# Código para obtener el Dataset que se va a usar en el entrenamiento\n",
    "valor_min = 0\n",
    "valor_max = 255\n",
    "valores_color = 3\n",
    "num_colores = 100\n",
    "# creamos la matriz\n",
    "datos = np.random.randint(valor_min, valor_max, (valores_color, num_colores))"
   ]
  },
  {
   "cell_type": "markdown",
   "metadata": {},
   "source": [
    "## SOM Setup\n",
    "#### Variables definidas por el alumno"
   ]
  },
  {
   "cell_type": "code",
   "execution_count": 3,
   "metadata": {},
   "outputs": [],
   "source": [
    "# Inicializa tamaño del mapa de Kohonen, número de iteraciones y learning rate\n",
    "# Inicializa normalizar_datos dependiendo de si tienes que normalizar los datos o no\n",
    "lado_mapa = 20\n",
    "periodo = 10000\n",
    "learning_rate = 0.02 \n",
    "normalizar_datos = 'true'"
   ]
  },
  {
   "cell_type": "markdown",
   "metadata": {},
   "source": [
    "#### A partir de este punto solo hay cálculos. No se introducen más valores \"a mano\""
   ]
  },
  {
   "cell_type": "code",
   "execution_count": 4,
   "metadata": {},
   "outputs": [],
   "source": [
    "# Establece el numero de entradas del mapa y el número de datos que se van a usar para entrenar. \n",
    "# Utiliza una función que obtenga automáticamente los valores a partir del Dataset.\n",
    "num_entradas = len(datos)\n",
    "num_datos = len(datos[0])\n",
    "\n",
    "# Calcula el vecindario inicial. Debe ser la mitad del lado del mapa de Kohonen\n",
    "vecindario = lado_mapa/2\n",
    "\n",
    "# Normaliza los datos si fuese necesario dividiendo cada dato por el máximo en la matriz\n",
    "if normalizar_datos == 'true':\n",
    "    datosN = (datos-np.amin(datos))/(np.amax(datos)-(np.amin(datos)))\n",
    "    \n",
    "# Crea una matriz de pesos con valores random entre 0 y 1. Usa la función random.random de la librería NumPy\n",
    "m_pesos = np.random.random((lado_mapa, lado_mapa, valores_color))"
   ]
  },
  {
   "cell_type": "markdown",
   "metadata": {},
   "source": [
    "#### Funciones para entrenar/clasificar"
   ]
  },
  {
   "cell_type": "code",
   "execution_count": 5,
   "metadata": {},
   "outputs": [],
   "source": [
    "# Función para encontrar la BMU\n",
    "\"\"\"\n",
    "   Encuentra la BMU para un patrón de entrada.\n",
    "   Entradas: (patrón_de_entrada, matriz_de_pesos, número_de_entradas)\n",
    "   Salidas:  (bmu, bmu_idx) tupla donde\n",
    "               bmu: vector de pesos de la neurona ganadora\n",
    "               bum_idx: coordenadas de la neurona ganadora\n",
    "\"\"\"\n",
    "def calcular_bmu(patron_entrada, m_pesos, num_entradas):\n",
    "    #inicializamos la distancia minina\n",
    "    dMin = np.iinfo(np.int).max\n",
    "    #recorremos la matriz de pesos\n",
    "    for x in range (m_pesos.shape[0]): #para x\n",
    "        for y in range (m_pesos.shape[1]): #para y\n",
    "            w = m_pesos[x, y] #vector de pesos\n",
    "            dEuclidea = np.linalg.norm(x-y) #distancia Euclidea\n",
    "            if dEuclidea < dMin:\n",
    "                dMin = dEuclidea\n",
    "                bmu_idx = np.array([x, y])\n",
    "    #vector de pesos de la neurona ganadora\n",
    "    bmu = m_pesos[bmu_idx[0], bmu_idx[1]]\n",
    "    return (bmu, bmu_idx)\n"
   ]
  },
  {
   "cell_type": "code",
   "execution_count": 6,
   "metadata": {},
   "outputs": [],
   "source": [
    "# Función para calcular el descenso del coeficiente de aprendizaje (eta)\n",
    "\"\"\"\n",
    "   Calcula el Learning Rate (eta) que corresponde a la i-ésima presentación.\n",
    "   Entradas: (learning_rate_inicial, iteracion, período)\n",
    "   Salidas:  learning_rate para la iteración i\n",
    "\n",
    "\"\"\"\n",
    "def variacion_learning_rate(learning_rate, i, periodo):\n",
    "    learning_rateV = learning_rate * (1-(i/periodo))\n",
    "    return learning_rateV"
   ]
  },
  {
   "cell_type": "code",
   "execution_count": 7,
   "metadata": {},
   "outputs": [],
   "source": [
    "# Función para calcular el descenso del vecindario (v)\n",
    "\"\"\"\n",
    "   Calcula el vecindario  (v) que corresponde a la i-ésima presentación.\n",
    "   Entradas: (vecindario_inicial, iteracion, período)\n",
    "   Salidas:  lvecindario para la iteración i\n",
    "\n",
    "\"\"\"\n",
    "def variacion_vecindario(vecindario, i, periodo):\n",
    "    lvecindario = 1 + vecindario * (1-(i/periodo))\n",
    "    return lvecindario"
   ]
  },
  {
   "cell_type": "code",
   "execution_count": 8,
   "metadata": {},
   "outputs": [],
   "source": [
    "# Función para calcular el descenso del coeficiente de aprendizaje (eta) en función de la distancia a la BMU\n",
    "\"\"\"\n",
    "   Calcula la amortiguación de eta en función de la distancia en el mapa entre una neurona y la BMU.\n",
    "   Entradas: (distancia_BMU, vecindario_actual)\n",
    "   Salidas:  amortiguación para la iteración\n",
    "\n",
    "\"\"\"\n",
    "def decay(distancia_BMU, vecindario_actual):\n",
    "    return np.exp(-distancia_BMU**2 / (2*vecindario_actual**2))"
   ]
  },
  {
   "cell_type": "markdown",
   "metadata": {},
   "source": [
    "#### Funciones para dibujar la salida de la red"
   ]
  },
  {
   "cell_type": "code",
   "execution_count": 9,
   "metadata": {},
   "outputs": [
    {
     "data": {
      "image/png": "[encoded data removed]",
      "text/plain": [
       "<Figure size 432x288 with 1 Axes>"
      ]
     },
     "metadata": {
      "needs_background": "light"
     },
     "output_type": "display_data"
    }
   ],
   "source": [
    "# Función para pintar una matriz de valores como colores RGB\n",
    "def pintar_mapa(matriz_valores):\n",
    "    fig = plt.figure()\n",
    "    \n",
    "    # Establece ejes\n",
    "    ax = fig.add_subplot(111, aspect='equal')\n",
    "    ax.set_xlim((0, m_pesos.shape[0]+1))\n",
    "    ax.set_ylim((0, m_pesos.shape[1]+1))\n",
    "    ax.set_title('Self-Organising Map después de %d iteraciones' % periodo)\n",
    "\n",
    "    # Dibuja los rectángulos de color RGB\n",
    "    for x in range(1, matriz_valores.shape[0] + 1):\n",
    "        for y in range(1, matriz_valores.shape[1] + 1):\n",
    "            ax.add_patch(patches.Rectangle((x-0.5, y-0.5), 1, 1,\n",
    "                         facecolor=matriz_valores[x-1,y-1,:],\n",
    "                         edgecolor='none'))\n",
    "    plt.show()\n",
    "    \n",
    "pintar_mapa(m_pesos)"
   ]
  },
  {
   "cell_type": "markdown",
   "metadata": {},
   "source": [
    "## SOM Entrenamiento"
   ]
  },
  {
   "cell_type": "code",
   "execution_count": 11,
   "metadata": {},
   "outputs": [
    {
     "ename": "ValueError",
     "evalue": "operands could not be broadcast together with shapes (100,) (3,) ",
     "output_type": "error",
     "traceback": [
      "\u001b[1;31m---------------------------------------------------------------------------\u001b[0m",
      "\u001b[1;31mValueError\u001b[0m                                Traceback (most recent call last)",
      "\u001b[1;32m<ipython-input-11-dec43ca5ce55>\u001b[0m in \u001b[0;36m<module>\u001b[1;34m\u001b[0m\n\u001b[0;32m     18\u001b[0m                 \u001b[0mamortiguacion\u001b[0m \u001b[1;33m=\u001b[0m \u001b[0mdecay\u001b[0m\u001b[1;33m(\u001b[0m\u001b[0mdistEuclidea\u001b[0m\u001b[1;33m,\u001b[0m \u001b[0mv\u001b[0m\u001b[1;33m)\u001b[0m\u001b[1;33m\u001b[0m\u001b[1;33m\u001b[0m\u001b[0m\n\u001b[0;32m     19\u001b[0m                 \u001b[1;31m#actualizamos el vector de pesos de la neurona\u001b[0m\u001b[1;33m\u001b[0m\u001b[1;33m\u001b[0m\u001b[1;33m\u001b[0m\u001b[0m\n\u001b[1;32m---> 20\u001b[1;33m                 \u001b[0mm_pesos\u001b[0m\u001b[1;33m[\u001b[0m\u001b[0mx\u001b[0m\u001b[1;33m,\u001b[0m \u001b[0my\u001b[0m\u001b[1;33m]\u001b[0m \u001b[1;33m=\u001b[0m \u001b[0mw\u001b[0m \u001b[1;33m+\u001b[0m \u001b[0meta\u001b[0m \u001b[1;33m*\u001b[0m \u001b[0mamortiguacion\u001b[0m \u001b[1;33m*\u001b[0m \u001b[1;33m(\u001b[0m\u001b[0mpatron_entrada\u001b[0m \u001b[1;33m-\u001b[0m \u001b[0mw\u001b[0m\u001b[1;33m)\u001b[0m\u001b[1;33m\u001b[0m\u001b[1;33m\u001b[0m\u001b[0m\n\u001b[0m\u001b[0;32m     21\u001b[0m \u001b[1;33m\u001b[0m\u001b[0m\n\u001b[0;32m     22\u001b[0m \u001b[0mm_pesos\u001b[0m\u001b[1;33m\u001b[0m\u001b[1;33m\u001b[0m\u001b[0m\n",
      "\u001b[1;31mValueError\u001b[0m: operands could not be broadcast together with shapes (100,) (3,) "
     ]
    }
   ],
   "source": [
    "# Entrena la red con el dataset de entrenamiento\n",
    "for i in range(periodo):\n",
    "    patron_entrada = datosN[np.random.randint(datos.shape[0])] #el patron de entrada es escogido al azar\n",
    "    #calculamos la BMU\n",
    "    bmu, bmu_idx = calcular_bmu(patron_entrada, m_pesos, num_entradas)\n",
    "    #calculamos eta y el vecindario\n",
    "    eta = variacion_learning_rate(learning_rate, i, periodo)\n",
    "    v = variacion_vecindario(vecindario, i, periodo)\n",
    "    \n",
    "    #actualizamos el vector de pesos y así nos acercamos a v\n",
    "    for x in range(lado_mapa):\n",
    "        for y in range(lado_mapa):\n",
    "            w = m_pesos[x, y] #actualizamos el vector de pesos\n",
    "            #calculamos la distancia euclídea para cada neurona y acercarnos a la correspondiente\n",
    "            distEuclidea = np.linalg.norm(x-y)\n",
    "            if distEuclidea <= vecindario: #si la distancia euclidea es menor o igual que el vecindario\n",
    "                #calculamos la amortigüación \n",
    "                amortiguacion = decay(distEuclidea, v)\n",
    "                #actualizamos el vector de pesos de la neurona\n",
    "                m_pesos[x, y] = w + eta * amortiguacion * (patron_entrada - w)\n",
    "\n",
    "m_pesos\n",
    "pintar_mapa(m_pesos)"
   ]
  },
  {
   "cell_type": "markdown",
   "metadata": {},
   "source": [
    "## SOM Clasificación"
   ]
  },
  {
   "cell_type": "code",
   "execution_count": null,
   "metadata": {
    "collapsed": true
   },
   "outputs": [],
   "source": [
    "# Clasifica los patrones de entrenamiento con la matriz de pesos recién entrenada\n",
    "\n"
   ]
  },
  {
   "cell_type": "markdown",
   "metadata": {},
   "source": [
    "## SOM Prueba"
   ]
  },
  {
   "cell_type": "code",
   "execution_count": null,
   "metadata": {
    "collapsed": true
   },
   "outputs": [],
   "source": [
    "# Clasifica nuevos patrones\n",
    "\n"
   ]
  }
 ],
 "metadata": {
  "anaconda-cloud": {},
  "kernelspec": {
   "display_name": "Python 3",
   "language": "python",
   "name": "python3"
  },
  "language_info": {
   "codemirror_mode": {
    "name": "ipython",
    "version": 3
   },
   "file_extension": ".py",
   "mimetype": "text/x-python",
   "name": "python",
   "nbconvert_exporter": "python",
   "pygments_lexer": "ipython3",
   "version": "3.7.3"
  }
 },
 "nbformat": 4,
 "nbformat_minor": 2
}
