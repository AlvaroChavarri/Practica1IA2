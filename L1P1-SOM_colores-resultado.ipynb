{
 "cells": [
  {
   "cell_type": "markdown",
   "metadata": {},
   "source": [
    "# Práctica 1 - Self-Organising Maps - COLORES\n",
    "## Preparación de entorno\n",
    "#### Importar librerías de código"
   ]
  },
  {
   "cell_type": "markdown",
   "metadata": {},
   "source": [
    "Álvaro Chavarri, Daniel Ojeda, Carlos Vega y Lucía Gálvez"
   ]
  },
  {
   "cell_type": "code",
   "execution_count": 15,
   "metadata": {
    "scrolled": true
   },
   "outputs": [],
   "source": [
    "# from __future__ import division\n",
    "\n",
    "import numpy as np\n",
    "from matplotlib import pyplot as plt\n",
    "from matplotlib import patches as patches\n",
    "from mpl_toolkits.mplot3d import Axes3D\n",
    "\n",
    "%matplotlib inline"
   ]
  },
  {
   "cell_type": "markdown",
   "metadata": {},
   "source": [
    "#### Dataset que se va a utilizar para el entrenamiento"
   ]
  },
  {
   "cell_type": "code",
   "execution_count": 2,
   "metadata": {},
   "outputs": [],
   "source": [
    "# Código para obtener el Dataset que se va a usar en el entrenamiento\n",
    "valor_min = 0\n",
    "valor_max = 255\n",
    "valores_color = 3\n",
    "num_colores = 100\n",
    "# creamos la matriz por separado\n",
    "datos = np.random.randint(valor_min, valor_max, (num_colores, valores_color))"
   ]
  },
  {
   "cell_type": "markdown",
   "metadata": {},
   "source": [
    "## SOM Setup\n",
    "#### Variables definidas por el alumno"
   ]
  },
  {
   "cell_type": "code",
   "execution_count": 3,
   "metadata": {},
   "outputs": [],
   "source": [
    "# Inicializa tamaño del mapa de Kohonen, número de iteraciones y learning rate\n",
    "# Inicializa normalizar_datos dependiendo de si tienes que normalizar los datos o no\n",
    "lado_mapa = 20\n",
    "periodo = 10000\n",
    "learning_rate = 0.02 \n",
    "normalizar_datos = 'true'"
   ]
  },
  {
   "cell_type": "markdown",
   "metadata": {},
   "source": [
    "#### A partir de este punto solo hay cálculos. No se introducen más valores \"a mano\""
   ]
  },
  {
   "cell_type": "code",
   "execution_count": 4,
   "metadata": {},
   "outputs": [],
   "source": [
    "# Establece el numero de entradas del mapa y el número de datos que se van a usar para entrenar. \n",
    "# Utiliza una función que obtenga automáticamente los valores a partir del Dataset.\n",
    "num_entradas = len(datos)\n",
    "num_datos = len(datos[0])\n",
    "\n",
    "# Calcula el vecindario inicial. Debe ser la mitad del lado del mapa de Kohonen\n",
    "vecindario_inicial = lado_mapa/2\n",
    "\n",
    "# Normaliza los datos si fuese necesario dividiendo cada dato por el máximo en la matriz\n",
    "if normalizar_datos == 'true':\n",
    "    datosN = (datos-np.min(datos))/(np.max(datos)-(np.min(datos)))\n",
    "    \n",
    "# Crea una matriz de pesos con valores random entre 0 y 1. Usa la función random.random de la librería NumPy\n",
    "m_pesos = np.random.random((lado_mapa, lado_mapa, valores_color))"
   ]
  },
  {
   "cell_type": "markdown",
   "metadata": {},
   "source": [
    "#### Funciones para entrenar/clasificar"
   ]
  },
  {
   "cell_type": "markdown",
   "metadata": {},
   "source": [
    "##### Calcular BMU\n",
    "Esta función encuentra la neurona ganadora, calculando la distancia Euclídea neurona-patrón y guardando las coordenadas en la BMU (bmu_idx) "
   ]
  },
  {
   "cell_type": "code",
   "execution_count": 5,
   "metadata": {},
   "outputs": [],
   "source": [
    "# Función para encontrar la BMU\n",
    "\"\"\"\n",
    "   Encuentra la BMU para un patrón de entrada.\n",
    "   Entradas: (patrón_de_entrada, matriz_de_pesos, número_de_entradas)\n",
    "   Salidas:  (bmu, bmu_idx) tupla donde\n",
    "               bmu: vector de pesos de la neurona ganadora\n",
    "               bum_idx: coordenadas de la neurona ganadora\n",
    "\"\"\"\n",
    "def calcular_bmu(patron_entrada, m_pesos, num_entradas):\n",
    "    #inicializamos la distancia minina\n",
    "    dMin = np.iinfo(np.int).max\n",
    "    #recorremos la matriz de pesos\n",
    "    for x in range (m_pesos.shape[0]): #para x\n",
    "        for y in range (m_pesos.shape[1]): #para y\n",
    "            w = m_pesos[x, y] #vector de pesos\n",
    "            dEuclidea = np.sqrt(np.sum((w - patron_entrada)** 2)) #distancia Euclidea\n",
    "            if dEuclidea < dMin:\n",
    "                dMin = dEuclidea\n",
    "                bmu_idx = np.array([x, y])\n",
    "    #vector de pesos de la neurona ganadora\n",
    "    bmu = m_pesos[bmu_idx[0], bmu_idx[1]]\n",
    "    return (bmu, bmu_idx)\n"
   ]
  },
  {
   "cell_type": "markdown",
   "metadata": {},
   "source": [
    "##### Variación learning rate\n",
    "Esta función calcula eta para la i-ésima iteración"
   ]
  },
  {
   "cell_type": "code",
   "execution_count": 6,
   "metadata": {},
   "outputs": [],
   "source": [
    "# Función para calcular el descenso del coeficiente de aprendizaje (eta)\n",
    "\"\"\"\n",
    "   Calcula el Learning Rate (eta) que corresponde a la i-ésima presentación.\n",
    "   Entradas: (learning_rate_inicial, iteracion, período)\n",
    "   Salidas:  learning_rate para la iteración i\n",
    "\n",
    "\"\"\"\n",
    "def variacion_learning_rate(learning_rate, i, periodo):\n",
    "    learning_rateV = learning_rate * (1-(i/periodo))\n",
    "    return learning_rateV"
   ]
  },
  {
   "cell_type": "markdown",
   "metadata": {},
   "source": [
    "##### Variación vecindario\n",
    "Esta función calcula el desdenso del vecindario"
   ]
  },
  {
   "cell_type": "code",
   "execution_count": 7,
   "metadata": {},
   "outputs": [],
   "source": [
    "# Función para calcular el descenso del vecindario (v)\n",
    "\"\"\"\n",
    "   Calcula el vecindario  (v) que corresponde a la i-ésima presentación.\n",
    "   Entradas: (vecindario_inicial, iteracion, período)\n",
    "   Salidas:  lvecindario para la iteración i\n",
    "\n",
    "\"\"\"\n",
    "def variacion_vecindario(vecindario_inicial, i, periodo):\n",
    "    lvecindario = 1 + vecindario_inicial * (1-(i/periodo))\n",
    "    return lvecindario"
   ]
  },
  {
   "cell_type": "markdown",
   "metadata": {},
   "source": [
    "##### Decay\n",
    "Esta función calcula eta en función de la distancia a la BMU"
   ]
  },
  {
   "cell_type": "code",
   "execution_count": 8,
   "metadata": {},
   "outputs": [],
   "source": [
    "# Función para calcular el descenso del coeficiente de aprendizaje (eta) en función de la distancia a la BMU\n",
    "\"\"\"\n",
    "   Calcula la amortiguación de eta en función de la distancia en el mapa entre una neurona y la BMU.\n",
    "   Entradas: (distancia_BMU, vecindario_actual)\n",
    "   Salidas:  amortiguación para la iteración\n",
    "\n",
    "\"\"\"\n",
    "def decay(distancia_BMU, vecindario_actual):\n",
    "    return np.exp(-distancia_BMU**2 / (2*vecindario_actual**2))"
   ]
  },
  {
   "cell_type": "markdown",
   "metadata": {},
   "source": [
    "#### Funciones para dibujar la salida de la red"
   ]
  },
  {
   "cell_type": "markdown",
   "metadata": {},
   "source": [
    "Esta función nos permite pintar la matriz de los valores con los colores RGB"
   ]
  },
  {
   "cell_type": "code",
   "execution_count": 9,
   "metadata": {},
   "outputs": [
    {
     "data": {
      "image/png": "[encoded data removed]",
      "text/plain": [
       "<Figure size 432x288 with 1 Axes>"
      ]
     },
     "metadata": {
      "needs_background": "light"
     },
     "output_type": "display_data"
    }
   ],
   "source": [
    "# Función para pintar una matriz de valores como colores RGB\n",
    "def pintar_mapa(matriz_valores):\n",
    "    fig = plt.figure()\n",
    "    \n",
    "    # Establece ejes\n",
    "    ax = fig.add_subplot(111, aspect='equal')\n",
    "    ax.set_xlim((0, m_pesos.shape[0]+1))\n",
    "    ax.set_ylim((0, m_pesos.shape[1]+1))\n",
    "    ax.set_title('Self-Organising Map después de %d iteraciones' % periodo)\n",
    "\n",
    "    # Dibuja los rectángulos de color RGB\n",
    "    for x in range(1, matriz_valores.shape[0] + 1):\n",
    "        for y in range(1, matriz_valores.shape[1] + 1):\n",
    "            ax.add_patch(patches.Rectangle((x-0.5, y-0.5), 1, 1,\n",
    "                         facecolor=matriz_valores[x-1,y-1,:],\n",
    "                         edgecolor='none'))\n",
    "    plt.show()\n",
    "    \n",
    "pintar_mapa(m_pesos)"
   ]
  },
  {
   "cell_type": "markdown",
   "metadata": {},
   "source": [
    "## SOM Entrenamiento"
   ]
  },
  {
   "cell_type": "markdown",
   "metadata": {},
   "source": [
    "#### Creación del bucle para entrenar la red"
   ]
  },
  {
   "cell_type": "code",
   "execution_count": 10,
   "metadata": {},
   "outputs": [
    {
     "name": "stdout",
     "output_type": "stream",
     "text": [
      "Iteración:  0\n",
      "Iteración:  100\n",
      "Iteración:  200\n",
      "Iteración:  300\n",
      "Iteración:  400\n",
      "Iteración:  500\n",
      "Iteración:  600\n",
      "Iteración:  700\n",
      "Iteración:  800\n",
      "Iteración:  900\n",
      "Iteración:  1000\n",
      "Iteración:  1100\n",
      "Iteración:  1200\n",
      "Iteración:  1300\n",
      "Iteración:  1400\n",
      "Iteración:  1500\n",
      "Iteración:  1600\n",
      "Iteración:  1700\n",
      "Iteración:  1800\n",
      "Iteración:  1900\n",
      "Iteración:  2000\n",
      "Iteración:  2100\n",
      "Iteración:  2200\n",
      "Iteración:  2300\n",
      "Iteración:  2400\n",
      "Iteración:  2500\n",
      "Iteración:  2600\n",
      "Iteración:  2700\n",
      "Iteración:  2800\n",
      "Iteración:  2900\n",
      "Iteración:  3000\n",
      "Iteración:  3100\n",
      "Iteración:  3200\n",
      "Iteración:  3300\n",
      "Iteración:  3400\n",
      "Iteración:  3500\n",
      "Iteración:  3600\n",
      "Iteración:  3700\n",
      "Iteración:  3800\n",
      "Iteración:  3900\n",
      "Iteración:  4000\n",
      "Iteración:  4100\n",
      "Iteración:  4200\n",
      "Iteración:  4300\n",
      "Iteración:  4400\n",
      "Iteración:  4500\n",
      "Iteración:  4600\n",
      "Iteración:  4700\n",
      "Iteración:  4800\n",
      "Iteración:  4900\n",
      "Iteración:  5000\n",
      "Iteración:  5100\n",
      "Iteración:  5200\n",
      "Iteración:  5300\n",
      "Iteración:  5400\n",
      "Iteración:  5500\n",
      "Iteración:  5600\n",
      "Iteración:  5700\n",
      "Iteración:  5800\n",
      "Iteración:  5900\n",
      "Iteración:  6000\n",
      "Iteración:  6100\n",
      "Iteración:  6200\n",
      "Iteración:  6300\n",
      "Iteración:  6400\n",
      "Iteración:  6500\n",
      "Iteración:  6600\n",
      "Iteración:  6700\n",
      "Iteración:  6800\n",
      "Iteración:  6900\n",
      "Iteración:  7000\n",
      "Iteración:  7100\n",
      "Iteración:  7200\n",
      "Iteración:  7300\n",
      "Iteración:  7400\n",
      "Iteración:  7500\n",
      "Iteración:  7600\n",
      "Iteración:  7700\n",
      "Iteración:  7800\n",
      "Iteración:  7900\n",
      "Iteración:  8000\n",
      "Iteración:  8100\n",
      "Iteración:  8200\n",
      "Iteración:  8300\n",
      "Iteración:  8400\n",
      "Iteración:  8500\n",
      "Iteración:  8600\n",
      "Iteración:  8700\n",
      "Iteración:  8800\n",
      "Iteración:  8900\n",
      "Iteración:  9000\n",
      "Iteración:  9100\n",
      "Iteración:  9200\n",
      "Iteración:  9300\n",
      "Iteración:  9400\n",
      "Iteración:  9500\n",
      "Iteración:  9600\n",
      "Iteración:  9700\n",
      "Iteración:  9800\n",
      "Iteración:  9900\n"
     ]
    },
    {
     "data": {
      "text/plain": [
       "array([[[0.76979373, 0.16281308, 0.22376649],\n",
       "        [0.74762767, 0.160301  , 0.25287988],\n",
       "        [0.72324077, 0.15957162, 0.29056544],\n",
       "        ...,\n",
       "        [0.81312544, 0.41759388, 0.76486188],\n",
       "        [0.8419211 , 0.46291797, 0.75107316],\n",
       "        [0.84962268, 0.49213895, 0.74212482]],\n",
       "\n",
       "       [[0.73291496, 0.16565892, 0.22221559],\n",
       "        [0.72081746, 0.16171064, 0.25325298],\n",
       "        [0.69348366, 0.15937936, 0.29261503],\n",
       "        ...,\n",
       "        [0.79791376, 0.4344649 , 0.7608496 ],\n",
       "        [0.8219012 , 0.47873788, 0.74814216],\n",
       "        [0.83964967, 0.51354905, 0.73794864]],\n",
       "\n",
       "       [[0.6881605 , 0.17002754, 0.22009235],\n",
       "        [0.67678413, 0.16406769, 0.25028036],\n",
       "        [0.64969586, 0.15976157, 0.29313542],\n",
       "        ...,\n",
       "        [0.77235352, 0.45624713, 0.75744211],\n",
       "        [0.79582055, 0.5002802 , 0.74511856],\n",
       "        [0.81829075, 0.53831939, 0.73528246]],\n",
       "\n",
       "       ...,\n",
       "\n",
       "       [[0.44734594, 0.70923552, 0.17210364],\n",
       "        [0.42547773, 0.70749323, 0.18777537],\n",
       "        [0.3950067 , 0.70041696, 0.21030335],\n",
       "        ...,\n",
       "        [0.29491847, 0.85441969, 0.72478224],\n",
       "        [0.31184089, 0.8658423 , 0.73852962],\n",
       "        [0.32887678, 0.87451986, 0.7492039 ]],\n",
       "\n",
       "       [[0.477393  , 0.75414353, 0.17146425],\n",
       "        [0.45549259, 0.75399456, 0.18761719],\n",
       "        [0.42168381, 0.7434347 , 0.20723171],\n",
       "        ...,\n",
       "        [0.28148471, 0.86484108, 0.70085138],\n",
       "        [0.29708921, 0.8776098 , 0.71485575],\n",
       "        [0.32136395, 0.88635884, 0.72372982]],\n",
       "\n",
       "       [[0.50044068, 0.78714851, 0.17213342],\n",
       "        [0.47556539, 0.78301319, 0.18559947],\n",
       "        [0.44131379, 0.77343322, 0.20252146],\n",
       "        ...,\n",
       "        [0.27774353, 0.87972536, 0.67832342],\n",
       "        [0.29197255, 0.88862419, 0.69294544],\n",
       "        [0.30408629, 0.89375228, 0.70525983]]])"
      ]
     },
     "execution_count": 10,
     "metadata": {},
     "output_type": "execute_result"
    }
   ],
   "source": [
    "# Entrena la red con el dataset de entrenamiento\n",
    "for i in range(periodo):\n",
    "    if i % 100 == 0: #cada 100 iteraciones imprimimos el número correspondiente\n",
    "        print('Iteración: ', i)\n",
    "    #patrón de entrada escogido al azar y convertido al formato de m_pesos\n",
    "    patron_entrada = datosN[np.random.randint(datos.shape[0])] \n",
    "    #buscamos la BMU\n",
    "    bmu, bmu_idx = calcular_bmu(patron_entrada, m_pesos, num_entradas)\n",
    "    #calculamos eta y el vecindario correspondientes a la iteración i\n",
    "    eta = variacion_learning_rate(learning_rate, i, periodo)\n",
    "    v = variacion_vecindario(vecindario_inicial, i, periodo)\n",
    "\n",
    "    #actualizamos el vector de pesos y así nos acercamos al patrón\n",
    "    for x in range(lado_mapa):\n",
    "        for y in range(lado_mapa):\n",
    "            w = m_pesos[x, y] #actualizamos el vector de pesos\n",
    "            #calculamos la distancia euclídea para cada neurona y acercarnos a la correspondiente\n",
    "            distEuclidea = np.sqrt(np.sum((np.array([x,y]) - bmu_idx)**2))\n",
    "            if distEuclidea <= vecindario_inicial: #si la distancia euclidea es menor o igual que el vecindario\n",
    "                #calculamos la amortigüación \n",
    "                amortiguacion = decay(distEuclidea, v)\n",
    "                #actualizamos el vector de pesos de la neurona\n",
    "                m_pesos[x, y] = w + eta * amortiguacion * (patron_entrada - w)\n",
    "\n",
    "m_pesos"
   ]
  },
  {
   "cell_type": "markdown",
   "metadata": {},
   "source": [
    "Pintamos la matriz de pesos con la función definida anteriormente 'pintar_mapa()'"
   ]
  },
  {
   "cell_type": "code",
   "execution_count": 11,
   "metadata": {},
   "outputs": [
    {
     "data": {
      "image/png": "[encoded data removed]",
      "text/plain": [
       "<Figure size 432x288 with 1 Axes>"
      ]
     },
     "metadata": {
      "needs_background": "light"
     },
     "output_type": "display_data"
    }
   ],
   "source": [
    "pintar_mapa(m_pesos)"
   ]
  },
  {
   "cell_type": "markdown",
   "metadata": {},
   "source": [
    "## SOM Clasificación"
   ]
  },
  {
   "cell_type": "markdown",
   "metadata": {},
   "source": [
    "### Clasifica los patrones de entrenamiento con la matriz de pesos recién entrenada"
   ]
  },
  {
   "cell_type": "markdown",
   "metadata": {
    "collapsed": true
   },
   "source": [
    "#### Definimos e inicializamos las tres matrices\n",
    "##### Mapa de Clasificación: mClasificacion \n",
    "Es una matriz con las mismas dimensiones que m_pesos y guarda en cada neurona el último patron clasificado\n",
    "##### Mapa de Activación: mActivacion\n",
    "Es una matriz bidimensional que guarda el número de patrones reconocido por  cada neurona\n",
    "##### Mapa de Distancias: mDistancias\n",
    "Es una matriz bidimensional que guarda las neuronas con activación>0"
   ]
  },
  {
   "cell_type": "code",
   "execution_count": 12,
   "metadata": {},
   "outputs": [],
   "source": [
    "mClasificacion = np.zeros((lado_mapa, lado_mapa, valores_color))                          \n",
    "mActivacion = np.zeros((lado_mapa, lado_mapa))\n",
    "mDistancias = np.zeros((lado_mapa, lado_mapa))\n",
    "distanciaEuclidea = 0"
   ]
  },
  {
   "cell_type": "markdown",
   "metadata": {},
   "source": [
    "#### Recorremos todo el dataset de entrenamiento"
   ]
  },
  {
   "cell_type": "markdown",
   "metadata": {},
   "source": [
    "##### Imprimimos las coordenadas x e y de la BMU para cada patrón de prueba"
   ]
  },
  {
   "cell_type": "code",
   "execution_count": 13,
   "metadata": {},
   "outputs": [
    {
     "name": "stdout",
     "output_type": "stream",
     "text": [
      "Coordenadas BMU: [0.26771654 0.2992126  0.8503937 ]\n",
      "X =  8\n",
      "Y =  12\n",
      "Coordenadas BMU: [0.9488189  0.08267717 0.27165354]\n",
      "X =  0\n",
      "Y =  0\n",
      "Coordenadas BMU: [0.43700787 0.98818898 0.        ]\n",
      "X =  19\n",
      "Y =  0\n",
      "Coordenadas BMU: [0.6496063  0.31102362 0.04724409]\n",
      "X =  3\n",
      "Y =  0\n",
      "Coordenadas BMU: [0.42519685 0.48818898 0.83858268]\n",
      "X =  8\n",
      "Y =  15\n",
      "Coordenadas BMU: [0.44488189 0.64173228 0.11417323]\n",
      "X =  16\n",
      "Y =  0\n",
      "Coordenadas BMU: [0.28740157 0.94488189 0.61811024]\n",
      "X =  19\n",
      "Y =  17\n",
      "Coordenadas BMU: [0.20472441 0.62598425 0.41732283]\n",
      "X =  16\n",
      "Y =  8\n",
      "Coordenadas BMU: [0.13385827 0.3976378  0.97637795]\n",
      "X =  10\n",
      "Y =  12\n",
      "Coordenadas BMU: [0.58267717 0.77559055 0.37007874]\n",
      "X =  19\n",
      "Y =  1\n",
      "Coordenadas BMU: [0.7007874  0.73228346 0.53937008]\n",
      "X =  5\n",
      "Y =  19\n",
      "Coordenadas BMU: [0.29133858 0.42125984 0.01181102]\n",
      "X =  12\n",
      "Y =  0\n",
      "Coordenadas BMU: [0.24015748 0.17716535 0.83464567]\n",
      "X =  7\n",
      "Y =  10\n",
      "Coordenadas BMU: [0.2992126  0.16141732 0.03543307]\n",
      "X =  8\n",
      "Y =  0\n",
      "Coordenadas BMU: [0.55905512 0.96850394 0.57874016]\n",
      "X =  18\n",
      "Y =  19\n",
      "Coordenadas BMU: [0.76771654 0.12598425 0.16141732]\n",
      "X =  0\n",
      "Y =  0\n",
      "Coordenadas BMU: [0.50393701 0.28346457 0.52755906]\n",
      "X =  2\n",
      "Y =  6\n",
      "Coordenadas BMU: [0.83070866 0.64173228 0.83858268]\n",
      "X =  3\n",
      "Y =  19\n",
      "Coordenadas BMU: [0.79133858 0.66535433 0.38976378]\n",
      "X =  4\n",
      "Y =  19\n",
      "Coordenadas BMU: [0.79133858 0.18503937 0.99212598]\n",
      "X =  0\n",
      "Y =  14\n",
      "Coordenadas BMU: [0.3976378  0.53937008 0.91732283]\n",
      "X =  9\n",
      "Y =  15\n",
      "Coordenadas BMU: [0.30314961 0.66929134 0.32283465]\n",
      "X =  17\n",
      "Y =  5\n",
      "Coordenadas BMU: [0.38188976 0.61417323 0.36220472]\n",
      "X =  16\n",
      "Y =  4\n",
      "Coordenadas BMU: [0.12992126 0.12204724 0.98425197]\n",
      "X =  7\n",
      "Y =  10\n",
      "Coordenadas BMU: [0.50393701 0.87007874 0.92125984]\n",
      "X =  11\n",
      "Y =  19\n",
      "Coordenadas BMU: [0.15748031 0.01574803 0.51968504]\n",
      "X =  7\n",
      "Y =  6\n",
      "Coordenadas BMU: [0.70866142 0.15748031 0.26377953]\n",
      "X =  1\n",
      "Y =  1\n",
      "Coordenadas BMU: [0.11811024 0.48818898 0.40551181]\n",
      "X =  13\n",
      "Y =  6\n",
      "Coordenadas BMU: [0.32677165 0.04330709 0.58267717]\n",
      "X =  5\n",
      "Y =  7\n",
      "Coordenadas BMU: [0.33464567 0.82677165 0.9488189 ]\n",
      "X =  13\n",
      "Y =  18\n",
      "Coordenadas BMU: [1.         0.16141732 0.21259843]\n",
      "X =  0\n",
      "Y =  0\n",
      "Coordenadas BMU: [0.68897638 0.88976378 0.67716535]\n",
      "X =  8\n",
      "Y =  19\n",
      "Coordenadas BMU: [0.72834646 0.23622047 0.53149606]\n",
      "X =  0\n",
      "Y =  5\n",
      "Coordenadas BMU: [0.00787402 0.88976378 0.82677165]\n",
      "X =  18\n",
      "Y =  16\n",
      "Coordenadas BMU: [0.44488189 0.97637795 0.96456693]\n",
      "X =  13\n",
      "Y =  19\n",
      "Coordenadas BMU: [0.91338583 0.59055118 0.81102362]\n",
      "X =  1\n",
      "Y =  19\n",
      "Coordenadas BMU: [0.06299213 0.06692913 0.57086614]\n",
      "X =  8\n",
      "Y =  7\n",
      "Coordenadas BMU: [0.95275591 0.70472441 0.74015748]\n",
      "X =  2\n",
      "Y =  19\n",
      "Coordenadas BMU: [0.20866142 0.86614173 0.61417323]\n",
      "X =  19\n",
      "Y =  14\n",
      "Coordenadas BMU: [0.16535433 0.4488189  0.46850394]\n",
      "X =  13\n",
      "Y =  7\n",
      "Coordenadas BMU: [0.12204724 0.96062992 0.44488189]\n",
      "X =  19\n",
      "Y =  10\n",
      "Coordenadas BMU: [0.69291339 0.46062992 0.16141732]\n",
      "X =  2\n",
      "Y =  0\n",
      "Coordenadas BMU: [0.49212598 0.16929134 0.9488189 ]\n",
      "X =  3\n",
      "Y =  12\n",
      "Coordenadas BMU: [0.17322835 0.42519685 0.29133858]\n",
      "X =  12\n",
      "Y =  4\n",
      "Coordenadas BMU: [0.43307087 0.01574803 0.87401575]\n",
      "X =  3\n",
      "Y =  10\n",
      "Coordenadas BMU: [0.22047244 0.3976378  0.7480315 ]\n",
      "X =  10\n",
      "Y =  11\n",
      "Coordenadas BMU: [0.37007874 0.13385827 0.01181102]\n",
      "X =  7\n",
      "Y =  0\n",
      "Coordenadas BMU: [0.35826772 0.08661417 0.64173228]\n",
      "X =  5\n",
      "Y =  8\n",
      "Coordenadas BMU: [0.70472441 0.93700787 0.57480315]\n",
      "X =  8\n",
      "Y =  19\n",
      "Coordenadas BMU: [0.48425197 0.05905512 0.6023622 ]\n",
      "X =  3\n",
      "Y =  7\n",
      "Coordenadas BMU: [0.25984252 0.12204724 0.37795276]\n",
      "X =  7\n",
      "Y =  4\n",
      "Coordenadas BMU: [0.07874016 0.67322835 0.43307087]\n",
      "X =  17\n",
      "Y =  9\n",
      "Coordenadas BMU: [0.13385827 0.15354331 0.39370079]\n",
      "X =  9\n",
      "Y =  5\n",
      "Coordenadas BMU: [0.11811024 0.43307087 0.72047244]\n",
      "X =  11\n",
      "Y =  10\n",
      "Coordenadas BMU: [0.97637795 0.21259843 0.24015748]\n",
      "X =  0\n",
      "Y =  0\n",
      "Coordenadas BMU: [0.7519685  0.56692913 0.71259843]\n",
      "X =  3\n",
      "Y =  19\n",
      "Coordenadas BMU: [0.7007874  0.92913386 0.9488189 ]\n",
      "X =  9\n",
      "Y =  19\n",
      "Coordenadas BMU: [0.87007874 0.97244094 0.16929134]\n",
      "X =  19\n",
      "Y =  0\n",
      "Coordenadas BMU: [0.56692913 0.03937008 0.36614173]\n",
      "X =  3\n",
      "Y =  3\n",
      "Coordenadas BMU: [0.33858268 0.71653543 0.57086614]\n",
      "X =  17\n",
      "Y =  12\n",
      "Coordenadas BMU: [0.92519685 0.0984252  0.31496063]\n",
      "X =  0\n",
      "Y =  0\n",
      "Coordenadas BMU: [0.39370079 0.80708661 0.59448819]\n",
      "X =  19\n",
      "Y =  14\n",
      "Coordenadas BMU: [0.20866142 0.72834646 0.83070866]\n",
      "X =  14\n",
      "Y =  15\n",
      "Coordenadas BMU: [0.12204724 0.94488189 0.27165354]\n",
      "X =  19\n",
      "Y =  7\n",
      "Coordenadas BMU: [0.60629921 0.67322835 0.7519685 ]\n",
      "X =  7\n",
      "Y =  19\n",
      "Coordenadas BMU: [0.8503937  0.11811024 0.58661417]\n",
      "X =  0\n",
      "Y =  5\n",
      "Coordenadas BMU: [0.34251969 0.79133858 0.41732283]\n",
      "X =  19\n",
      "Y =  7\n",
      "Coordenadas BMU: [0.19291339 0.92519685 0.6496063 ]\n",
      "X =  19\n",
      "Y =  16\n",
      "Coordenadas BMU: [0.9488189  0.31889764 0.85826772]\n",
      "X =  0\n",
      "Y =  16\n",
      "Coordenadas BMU: [0.99606299 0.56299213 0.71653543]\n",
      "X =  0\n",
      "Y =  19\n",
      "Coordenadas BMU: [0.80314961 0.8976378  0.11417323]\n",
      "X =  19\n",
      "Y =  0\n",
      "Coordenadas BMU: [0.22047244 0.99606299 0.57086614]\n",
      "X =  19\n",
      "Y =  17\n",
      "Coordenadas BMU: [0.21259843 0.56692913 0.62598425]\n",
      "X =  14\n",
      "Y =  11\n",
      "Coordenadas BMU: [0.08661417 0.40944882 0.01181102]\n",
      "X =  11\n",
      "Y =  0\n",
      "Coordenadas BMU: [0.14566929 0.47637795 0.12598425]\n",
      "X =  12\n",
      "Y =  0\n",
      "Coordenadas BMU: [0.34645669 0.94488189 0.93700787]\n",
      "X =  14\n",
      "Y =  19\n",
      "Coordenadas BMU: [0.77559055 0.28346457 0.95669291]\n",
      "X =  0\n",
      "Y =  14\n",
      "Coordenadas BMU: [0.51181102 0.0511811  0.07480315]\n",
      "X =  5\n",
      "Y =  0\n",
      "Coordenadas BMU: [0.71259843 0.94488189 0.03543307]\n",
      "X =  19\n",
      "Y =  0\n",
      "Coordenadas BMU: [0.32283465 0.77165354 0.97244094]\n",
      "X =  12\n",
      "Y =  17\n",
      "Coordenadas BMU: [0.24409449 0.1496063  0.28740157]\n",
      "X =  8\n",
      "Y =  3\n",
      "Coordenadas BMU: [0.19685039 0.90551181 0.17322835]\n",
      "X =  19\n",
      "Y =  5\n",
      "Coordenadas BMU: [0.16535433 0.11811024 0.72047244]\n",
      "X =  7\n",
      "Y =  9\n",
      "Coordenadas BMU: [0.13385827 0.01968504 0.0511811 ]\n",
      "X =  8\n",
      "Y =  0\n",
      "Coordenadas BMU: [0.40944882 0.2992126  0.25984252]\n",
      "X =  6\n",
      "Y =  1\n",
      "Coordenadas BMU: [0.64566929 0.18503937 0.78740157]\n",
      "X =  0\n",
      "Y =  12\n",
      "Coordenadas BMU: [0.38188976 0.71653543 0.15748031]\n",
      "X =  17\n",
      "Y =  1\n",
      "Coordenadas BMU: [0.03149606 0.72440945 0.53543307]\n",
      "X =  17\n",
      "Y =  10\n",
      "Coordenadas BMU: [0.49606299 0.2480315  0.57874016]\n",
      "X =  2\n",
      "Y =  7\n",
      "Coordenadas BMU: [0.20472441 0.77952756 0.82677165]\n",
      "X =  14\n",
      "Y =  15\n",
      "Coordenadas BMU: [0.96456693 0.27165354 0.57874016]\n",
      "X =  0\n",
      "Y =  17\n",
      "Coordenadas BMU: [0.84251969 0.01968504 0.03937008]\n",
      "X =  0\n",
      "Y =  0\n",
      "Coordenadas BMU: [0.16141732 0.72047244 0.12204724]\n",
      "X =  17\n",
      "Y =  4\n",
      "Coordenadas BMU: [0.08267717 0.48425197 0.41732283]\n",
      "X =  13\n",
      "Y =  7\n",
      "Coordenadas BMU: [0.08267717 0.37007874 0.71259843]\n",
      "X =  11\n",
      "Y =  10\n",
      "Coordenadas BMU: [0.13779528 0.33464567 0.08661417]\n",
      "X =  11\n",
      "Y =  0\n",
      "Coordenadas BMU: [0.40551181 0.49212598 0.20866142]\n",
      "X =  14\n",
      "Y =  0\n",
      "Coordenadas BMU: [0.33858268 0.76771654 0.93307087]\n",
      "X =  12\n",
      "Y =  17\n",
      "Coordenadas BMU: [0.72440945 0.08267717 0.88976378]\n",
      "X =  0\n",
      "Y =  12\n",
      "Coordenadas BMU: [0.22834646 0.07874016 0.79133858]\n",
      "X =  6\n",
      "Y =  9\n"
     ]
    }
   ],
   "source": [
    "for i in range (0, num_colores):\n",
    "    bmu, bmu_idx = calcular_bmu(datosN[i], m_pesos, num_entradas)\n",
    "    #actualizamos el mapa de clasificación, añadiendo el patrón en la neurona que lo ha reconocido\n",
    "    mClasificacion[bmu_idx[0], bmu_idx[1]] = datosN[i]\n",
    "    #actualizamos el mapa de activación, +1 en las activaciones\n",
    "    mActivacion[bmu_idx[0], bmu_idx[1]] =+ 1\n",
    "    distanciaEuclidea = np.sqrt(np.sum((bmu - datosN[i])**2)) #calculamos la distancia euclidea\n",
    "    mDistancias[bmu_idx[0], bmu_idx[1]] =+ distanciaEuclidea\n",
    "    print('Coordenadas BMU:', datosN[i])\n",
    "    print('X = ', bmu_idx[0])\n",
    "    print('Y = ', bmu_idx[1])   \n",
    "    "
   ]
  },
  {
   "cell_type": "markdown",
   "metadata": {},
   "source": [
    "##### Calculamos los mapas de clasificación, activación, y distancias"
   ]
  },
  {
   "cell_type": "code",
   "execution_count": 22,
   "metadata": {},
   "outputs": [
    {
     "name": "stdout",
     "output_type": "stream",
     "text": [
      "Mapa de Clasificación\n"
     ]
    },
    {
     "data": {
      "image/png": "[encoded data removed]",
      "text/plain": [
       "<Figure size 432x288 with 1 Axes>"
      ]
     },
     "metadata": {
      "needs_background": "light"
     },
     "output_type": "display_data"
    },
    {
     "name": "stdout",
     "output_type": "stream",
     "text": [
      "\n",
      "Mapa de Activación\n",
      "[[1. 0. 0. 0. 0. 1. 0. 0. 0. 0. 0. 0. 1. 0. 1. 0. 1. 1. 0. 1.]\n",
      " [0. 1. 0. 0. 0. 0. 0. 0. 0. 0. 0. 0. 0. 0. 0. 0. 0. 0. 0. 1.]\n",
      " [1. 0. 0. 0. 0. 0. 1. 1. 0. 0. 0. 0. 0. 0. 0. 0. 0. 0. 0. 1.]\n",
      " [1. 0. 0. 1. 0. 0. 0. 1. 0. 0. 1. 0. 1. 0. 0. 0. 0. 0. 0. 1.]\n",
      " [0. 0. 0. 0. 0. 0. 0. 0. 0. 0. 0. 0. 0. 0. 0. 0. 0. 0. 0. 1.]\n",
      " [1. 0. 0. 0. 0. 0. 0. 1. 1. 0. 0. 0. 0. 0. 0. 0. 0. 0. 0. 1.]\n",
      " [0. 1. 0. 0. 0. 0. 0. 0. 0. 1. 0. 0. 0. 0. 0. 0. 0. 0. 0. 0.]\n",
      " [1. 0. 0. 0. 1. 0. 1. 0. 0. 1. 1. 0. 0. 0. 0. 0. 0. 0. 0. 1.]\n",
      " [1. 0. 0. 1. 0. 0. 0. 1. 0. 0. 0. 0. 1. 0. 0. 1. 0. 0. 0. 1.]\n",
      " [0. 0. 0. 0. 0. 1. 0. 0. 0. 0. 0. 0. 0. 0. 0. 1. 0. 0. 0. 1.]\n",
      " [0. 0. 0. 0. 0. 0. 0. 0. 0. 0. 0. 1. 1. 0. 0. 0. 0. 0. 0. 0.]\n",
      " [1. 0. 0. 0. 0. 0. 0. 0. 0. 0. 1. 0. 0. 0. 0. 0. 0. 0. 0. 1.]\n",
      " [1. 0. 0. 0. 1. 0. 0. 0. 0. 0. 0. 0. 0. 0. 0. 0. 0. 1. 0. 0.]\n",
      " [0. 0. 0. 0. 0. 0. 1. 1. 0. 0. 0. 0. 0. 0. 0. 0. 0. 0. 1. 1.]\n",
      " [1. 0. 0. 0. 0. 0. 0. 0. 0. 0. 0. 1. 0. 0. 0. 1. 0. 0. 0. 1.]\n",
      " [0. 0. 0. 0. 0. 0. 0. 0. 0. 0. 0. 0. 0. 0. 0. 0. 0. 0. 0. 0.]\n",
      " [1. 0. 0. 0. 1. 0. 0. 0. 1. 0. 0. 0. 0. 0. 0. 0. 0. 0. 0. 0.]\n",
      " [0. 1. 0. 0. 1. 1. 0. 0. 0. 1. 1. 0. 1. 0. 0. 0. 0. 0. 0. 0.]\n",
      " [0. 0. 0. 0. 0. 0. 0. 0. 0. 0. 0. 0. 0. 0. 0. 0. 1. 0. 0. 1.]\n",
      " [1. 1. 0. 0. 0. 1. 0. 1. 0. 0. 1. 0. 0. 0. 1. 0. 1. 1. 0. 0.]]\n",
      "\n",
      "Histograma (3D) del Mapa de Activación\n"
     ]
    },
    {
     "ename": "TypeError",
     "evalue": "bar3d() missing 3 required positional arguments: 'dx', 'dy', and 'dz'",
     "output_type": "error",
     "traceback": [
      "\u001b[1;31m---------------------------------------------------------------------------\u001b[0m",
      "\u001b[1;31mTypeError\u001b[0m                                 Traceback (most recent call last)",
      "\u001b[1;32m<ipython-input-22-cef870b8e4f9>\u001b[0m in \u001b[0;36m<module>\u001b[1;34m\u001b[0m\n\u001b[0;32m     16\u001b[0m \u001b[0mzpos\u001b[0m \u001b[1;33m=\u001b[0m \u001b[0marray\u001b[0m\u001b[1;33m.\u001b[0m\u001b[0mflatten\u001b[0m\u001b[1;33m(\u001b[0m\u001b[1;33m)\u001b[0m\u001b[1;33m\u001b[0m\u001b[1;33m\u001b[0m\u001b[0m\n\u001b[0;32m     17\u001b[0m \u001b[1;33m\u001b[0m\u001b[0m\n\u001b[1;32m---> 18\u001b[1;33m \u001b[0max\u001b[0m\u001b[1;33m.\u001b[0m\u001b[0mbar3d\u001b[0m\u001b[1;33m(\u001b[0m\u001b[0mxpos\u001b[0m\u001b[1;33m,\u001b[0m \u001b[0mypos\u001b[0m\u001b[1;33m,\u001b[0m \u001b[0mzpos\u001b[0m\u001b[1;33m,\u001b[0m \u001b[0mzsort\u001b[0m\u001b[1;33m=\u001b[0m\u001b[1;34m'average'\u001b[0m\u001b[1;33m)\u001b[0m\u001b[1;33m\u001b[0m\u001b[1;33m\u001b[0m\u001b[0m\n\u001b[0m\u001b[0;32m     19\u001b[0m \u001b[1;33m\u001b[0m\u001b[0m\n\u001b[0;32m     20\u001b[0m \u001b[0mplt\u001b[0m\u001b[1;33m.\u001b[0m\u001b[0mshow\u001b[0m\u001b[1;33m(\u001b[0m\u001b[1;33m)\u001b[0m\u001b[1;33m\u001b[0m\u001b[1;33m\u001b[0m\u001b[0m\n",
      "\u001b[1;31mTypeError\u001b[0m: bar3d() missing 3 required positional arguments: 'dx', 'dy', and 'dz'"
     ]
    },
    {
     "data": {
      "image/png": "[encoded data removed]",
      "text/plain": [
       "<Figure size 432x288 with 1 Axes>"
      ]
     },
     "metadata": {
      "needs_background": "light"
     },
     "output_type": "display_data"
    }
   ],
   "source": [
    "print('Mapa de Clasificación')\n",
    "pintar_mapa(mClasificacion)\n",
    "\n",
    "print('\\nMapa de Activación')\n",
    "print(mActivacion)\n",
    "\n",
    "print('\\nHistograma (3D) del Mapa de Activación')\n",
    "fig = plt.figure()\n",
    "ax = fig.add_subplot(111, projection='3d')\n",
    "array = np.array(mActivacion)\n",
    "\n",
    "xpos, ypos = np.meshgrid(np.arange(mActivacion.shape[1]), np.arange(mActivacion.shape[0]))\n",
    "# Construct arrays for the anchor positions of the 16 bars.\n",
    "xpos = x.flatten()\n",
    "ypos = y.flatten()\n",
    "zpos = array.flatten()\n",
    "\n",
    "#PINTAR HISTOGRAMA 3D\n",
    "\n",
    "ax.bar3d(xpos, ypos, zpos, zsort='average')\n",
    "\n",
    "plt.show()\n",
    "\n",
    "print('\\nMapa de Distancias')\n",
    "print(mDistancias)"
   ]
  },
  {
   "cell_type": "markdown",
   "metadata": {},
   "source": [
    "##### Calculamos el número de clases"
   ]
  },
  {
   "cell_type": "code",
   "execution_count": null,
   "metadata": {},
   "outputs": [],
   "source": [
    "num_clases = np.count_nonzero(mActivacion)\n",
    "print('Número de clases: ', num_clases)"
   ]
  },
  {
   "cell_type": "markdown",
   "metadata": {},
   "source": [
    "##### Calculamos el Error de Cuantificación y el Error Topológico del mapa"
   ]
  },
  {
   "cell_type": "code",
   "execution_count": null,
   "metadata": {
    "scrolled": true
   },
   "outputs": [],
   "source": [
    "#error de cuantificación\n",
    "eCuantificacion = (np.sum(mDistancias))/(np.sum(mActivacion))\n",
    "print('Error de Cuantificación: ', eCuantificacion)\n"
   ]
  },
  {
   "cell_type": "code",
   "execution_count": null,
   "metadata": {},
   "outputs": [],
   "source": [
    "#error topológico\n",
    "#calculamos la segunda bmu para el error topológico\n",
    "def calcular_bmu2(patron_entrada, m_pesos, num_entradas):\n",
    "    #inicializamos la distancia minina\n",
    "    dMin = np.iinfo(np.int).max\n",
    "    bmu_idx = np.zeros(2) #le pasamos a las bmu_idx un array de ceros (2D)\n",
    "    #recorremos la matriz de pesos\n",
    "    for x in range (m_pesos.shape[0]): #para x\n",
    "        for y in range (m_pesos.shape[1]): #para y\n",
    "            w = m_pesos[x, y] #vector de pesos\n",
    "            dEuclidea = np.sqrt(np.sum((w - patron_entrada)** 2)) #distancia Euclidea\n",
    "            if dEuclidea < dMin:\n",
    "                bmu_idx2 = bmu_idx\n",
    "                dMin = dEuclidea\n",
    "                bmu_idx = np.array([x, y])\n",
    "   \n",
    "    return (bmu_idx, bmu_idx2)\n",
    "\n",
    "\n",
    "t=0\n",
    "for i in range(t, num_colores):\n",
    "    bmu_idx, bmu_idx2 = calcular_bmu2(datosN[i], m_pesos, num_entradas)\n",
    "    x = bmu_idx[0]\n",
    "    y = bmu_idx[1]\n",
    "    for a in [x-1,x,x+1]:\n",
    "        for b in [y-1,y,y+1]:\n",
    "            if bmu_idx2[0]== a and bmu_idx2[1] == b:\n",
    "                ady = True #t(x) = 0 si la primera y segunda BMU son adyacentes\n",
    "            elif a == bmu_idx[0]+1 and b == bmu_idx[1]+1 and ady != True:\n",
    "                t+=1 #en cambio, t(x) = 1 en caso contrario\n",
    "\n",
    "eTopologico = t/num_colores\n",
    "            \n",
    "\n",
    "print('Error Topológico: ', eTopologico) #MAAAAAAAAAAAAL NO PUEDE DAR CERO"
   ]
  },
  {
   "cell_type": "markdown",
   "metadata": {},
   "source": [
    "## SOM Prueba"
   ]
  },
  {
   "cell_type": "code",
   "execution_count": null,
   "metadata": {},
   "outputs": [],
   "source": [
    "# Clasifica nuevos patrones\n",
    "\n"
   ]
  }
 ],
 "metadata": {
  "anaconda-cloud": {},
  "kernelspec": {
   "display_name": "Python 3",
   "language": "python",
   "name": "python3"
  },
  "language_info": {
   "codemirror_mode": {
    "name": "ipython",
    "version": 3
   },
   "file_extension": ".py",
   "mimetype": "text/x-python",
   "name": "python",
   "nbconvert_exporter": "python",
   "pygments_lexer": "ipython3",
   "version": "3.7.3"
  }
 },
 "nbformat": 4,
 "nbformat_minor": 2
}
